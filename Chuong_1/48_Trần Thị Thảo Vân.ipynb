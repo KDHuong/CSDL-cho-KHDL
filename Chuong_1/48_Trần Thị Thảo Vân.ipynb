{
 "cells": [
  {
   "cell_type": "code",
   "execution_count": 1,
   "metadata": {},
   "outputs": [],
   "source": [
    "import sqlite3\n",
    "# Kết nối đến database (hoặc tạo mới nếu chưa có)\n",
    "conn = sqlite3.connect(\"nhanvien.db\")\n",
    "cursor = conn.cursor()"
   ]
  },
  {
   "cell_type": "code",
   "execution_count": 2,
   "metadata": {},
   "outputs": [
    {
     "data": {
      "text/plain": [
       "<sqlite3.Cursor at 0x191a1484440>"
      ]
     },
     "execution_count": 2,
     "metadata": {},
     "output_type": "execute_result"
    }
   ],
   "source": [
    "#Câu 1: tạo bảng nhân viên\n",
    "\n",
    "cursor.execute(\"\"\"\n",
    "CREATE TABLE IF NOT EXISTS NhanVien (\n",
    "    MaNV INTEGER PRIMARY KEY,\n",
    "    HoTen TEXT,\n",
    "    Tuoi INTEGER,\n",
    "    PhongBan TEXT\n",
    ")\n",
    "\"\"\")"
   ]
  },
  {
   "cell_type": "code",
   "execution_count": 3,
   "metadata": {},
   "outputs": [
    {
     "name": "stdout",
     "output_type": "stream",
     "text": [
      "Đã tạo bảng và chèn dữ liệu thành công!\n"
     ]
    }
   ],
   "source": [
    "#Câu 2: chèn bảng ghi\n",
    "data = [\n",
    "    (1, 'Nguyen Van A', 30, 'Ke Toan'),\n",
    "    (2, 'Tran Thi B', 25, 'Nhan Su'),\n",
    "    (3, 'Le Van C', 28, 'IT'),\n",
    "    (4, 'Pham Thi D', 32, 'Ke Toan'),\n",
    "    (5, 'Vu Van E', 26, 'IT'),\n",
    "    (6, 'Nguyen Thi F', 29, 'Marketing'),\n",
    "    (7, 'Le Thi G', 27, 'Nhan Su'),\n",
    "    (8, 'Hoang Van H', 35, 'Ke Toan'),\n",
    "    (9, 'Pham Van I', 33, 'Marketing'),\n",
    "    (10, 'Tran Van J', 24, 'IT'),\n",
    "    (11, 'Dang Thi K', 31, 'Nhan Su'),\n",
    "    (12, 'Nguyen Van L', 28, 'Ke Toan'),\n",
    "    (13, 'Tran Thi M', 26, 'Marketing'),\n",
    "    (14, 'Pham Van N', 30, 'Nhan Su'),\n",
    "    (15, 'Hoang Thi O', 27, 'IT')\n",
    "]\n",
    "\n",
    "# Chèn dữ liệu\n",
    "cursor.executemany(\"INSERT INTO NhanVien VALUES (?, ?, ?, ?)\", data)\n",
    "\n",
    "# Lưu thay đổi và đóng kết nối\n",
    "conn.commit()\n",
    "conn.close()\n",
    "\n",
    "print(\"Đã tạo bảng và chèn dữ liệu thành công!\")"
   ]
  },
  {
   "cell_type": "code",
   "execution_count": 18,
   "metadata": {},
   "outputs": [
    {
     "name": "stdout",
     "output_type": "stream",
     "text": [
      "(1, 'Nguyen Van A', 30, 'Ke Toan')\n",
      "(3, 'Le Van C', 28, 'Marketing')\n",
      "(4, 'Pham Thi D', 32, 'Ke Toan')\n",
      "(5, 'Vu Van E', 26, 'IT')\n",
      "(6, 'Nguyen Thi F', 29, 'Marketing')\n",
      "(7, 'Le Thi G', 27, 'Nhan Su')\n",
      "(8, 'Hoang Van H', 35, 'Ke Toan')\n",
      "(9, 'Pham Van I', 33, 'Marketing')\n",
      "(10, 'Tran Van J', 24, 'IT')\n",
      "(11, 'Dang Thi K', 31, 'Nhan Su')\n",
      "(12, 'Nguyen Van L', 28, 'Ke Toan')\n",
      "(13, 'Tran Thi M', 26, 'Marketing')\n",
      "(14, 'Pham Van N', 30, 'Nhan Su')\n",
      "(15, 'Hoang Thi O', 27, 'IT')\n"
     ]
    }
   ],
   "source": [
    "#Câu 3: lấy toàn bộ thông tin trong bảng NhanVien\n",
    "# Kết nối đến database\n",
    "conn = sqlite3.connect(\"nhanvien.db\")\n",
    "cursor = conn.cursor()\n",
    "cursor.execute(\"SELECT * FROM NhanVien\")\n",
    "rows = cursor.fetchall()\n",
    "# In dữ liệu\n",
    "for row in rows:\n",
    "    print(row)\n",
    "\n"
   ]
  },
  {
   "cell_type": "code",
   "execution_count": 9,
   "metadata": {},
   "outputs": [
    {
     "name": "stdout",
     "output_type": "stream",
     "text": [
      "('Le Van C', 28)\n",
      "('Vu Van E', 26)\n",
      "('Tran Van J', 24)\n",
      "('Hoang Thi O', 27)\n"
     ]
    }
   ],
   "source": [
    "#Câu 4: truy vấn HoTen và Tuoi của các nhân viên trong phòng IT\n",
    "cursor.execute(\"SELECT HoTen, Tuoi FROM NhanVien WHERE PhongBan= 'IT' \")\n",
    "rows1 = cursor.fetchall()\n",
    "# In dữ liệu\n",
    "for row in rows1:\n",
    "    print(row)\n"
   ]
  },
  {
   "cell_type": "code",
   "execution_count": 14,
   "metadata": {},
   "outputs": [
    {
     "name": "stdout",
     "output_type": "stream",
     "text": [
      "(1, 'Nguyen Van A', 30, 'Ke Toan')\n",
      "(3, 'Le Van C', 28, 'Marketing')\n",
      "(4, 'Pham Thi D', 32, 'Ke Toan')\n",
      "(5, 'Vu Van E', 26, 'IT')\n",
      "(6, 'Nguyen Thi F', 29, 'Marketing')\n",
      "(7, 'Le Thi G', 27, 'Nhan Su')\n",
      "(8, 'Hoang Van H', 35, 'Ke Toan')\n",
      "(9, 'Pham Van I', 33, 'Marketing')\n",
      "(11, 'Dang Thi K', 31, 'Nhan Su')\n",
      "(12, 'Nguyen Van L', 28, 'Ke Toan')\n",
      "(13, 'Tran Thi M', 26, 'Marketing')\n",
      "(14, 'Pham Van N', 30, 'Nhan Su')\n",
      "(15, 'Hoang Thi O', 27, 'IT')\n"
     ]
    }
   ],
   "source": [
    "#Câu 5: tìm nhân viên có độ tuổi lớn hơn 25\n",
    "cursor.execute(\"SELECT * FROM NhanVien WHERE Tuoi > 25\")\n",
    "rows2 = cursor.fetchall()\n",
    "# In dữ liệu\n",
    "for row in rows2:\n",
    "    print(row)"
   ]
  },
  {
   "cell_type": "code",
   "execution_count": 13,
   "metadata": {},
   "outputs": [
    {
     "name": "stdout",
     "output_type": "stream",
     "text": [
      "('Le Thi G', 27, 'Nhan Su')\n",
      "('Hoang Van H', 35, 'Ke Toan')\n",
      "('Pham Van I', 33, 'Marketing')\n",
      "('Dang Thi K', 31, 'Nhan Su')\n",
      "('Hoang Thi O', 27, 'IT')\n"
     ]
    }
   ],
   "source": [
    "#Câu 6: cho biết nv lớn tuổi nhất của các PhongBan\n",
    "cursor.execute(\"\"\"\n",
    "    SELECT HoTen, Tuoi, PhongBan \n",
    "    FROM NhanVien \n",
    "    WHERE Tuoi IN (\n",
    "        SELECT MAX(Tuoi) \n",
    "        FROM NhanVien \n",
    "        GROUP BY PhongBan\n",
    "    )\n",
    "\"\"\")\n",
    "rows3 = cursor.fetchall()\n",
    "# In dữ liệu\n",
    "for row in rows3:\n",
    "    print(row)"
   ]
  },
  {
   "cell_type": "code",
   "execution_count": 16,
   "metadata": {},
   "outputs": [],
   "source": [
    "#Câu 7: chuyển đổi thông tin\n",
    "cursor.execute(\"UPDATE NhanVien SET PhongBan='Marketing' WHERE HoTen='Le Van C'\")\n",
    "#Lưu thay đổi\n",
    "conn.commit()\n",
    "# Vấn đề có thể gặp phải: \n",
    "# Nếu có nhiều người tên Le Van C thì tất cả đều sẽ được đổi phòng ban sang Marketing\n",
    "# Nếu không có ai tên Le Van C thì câu lệnh vô hiệu\n",
    "# Cách khắc phục: thay vì dùng tên thì có thể thực hiện thay đổi theo mã nv sẽ chính xác hơn"
   ]
  },
  {
   "cell_type": "code",
   "execution_count": null,
   "metadata": {},
   "outputs": [
    {
     "name": "stdout",
     "output_type": "stream",
     "text": [
      "Phòng ban: IT - Số lượng nhân viên: 3\n",
      "Phòng ban: Ke Toan - Số lượng nhân viên: 4\n",
      "Phòng ban: Marketing - Số lượng nhân viên: 4\n",
      "Phòng ban: Nhan Su - Số lượng nhân viên: 3\n"
     ]
    }
   ],
   "source": [
    "#Câu 8: Xóa nv\n",
    "cursor.execute(\"DELETE FROM NhanVien WHERE MaNV='2' \")\n",
    "conn.commit()\n",
    "# Đếm số người ở mỗi phòng ban\n",
    "cursor.execute(\"SELECT PhongBan, COUNT(*) FROM NhanVien GROUP BY PhongBan\")\n",
    "rows4 = cursor.fetchall()\n",
    "# In dữ liệu\n",
    "for row in rows4:\n",
    "    print(f\"Phòng ban: {row[0]} - Số lượng nhân viên: {row[1]}\")"
   ]
  }
 ],
 "metadata": {
  "kernelspec": {
   "display_name": "Python 3",
   "language": "python",
   "name": "python3"
  },
  "language_info": {
   "codemirror_mode": {
    "name": "ipython",
    "version": 3
   },
   "file_extension": ".py",
   "mimetype": "text/x-python",
   "name": "python",
   "nbconvert_exporter": "python",
   "pygments_lexer": "ipython3",
   "version": "3.12.3"
  }
 },
 "nbformat": 4,
 "nbformat_minor": 2
}

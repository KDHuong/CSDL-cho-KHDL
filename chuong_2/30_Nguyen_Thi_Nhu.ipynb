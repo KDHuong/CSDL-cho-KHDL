{
 "cells": [
  {
   "cell_type": "markdown",
   "metadata": {},
   "source": [
    "## **BÀI TẬP CHƯƠNG 2**"
   ]
  },
  {
   "cell_type": "markdown",
   "metadata": {},
   "source": [
    "### **1. Tạo hai bẳng dữ liệu**"
   ]
  },
  {
   "cell_type": "code",
   "execution_count": 3,
   "metadata": {},
   "outputs": [],
   "source": [
    "import sqlite3\n",
    "\n",
    "# Kết nối đến SQLite (tạo file nếu chưa có)\n",
    "conn = sqlite3.connect(\"university.db\")\n",
    "cursor = conn.cursor()\n",
    "\n",
    "# Tạo bảng course\n",
    "cursor.execute('''\n",
    "    CREATE TABLE IF NOT EXISTS course (\n",
    "        id INTEGER PRIMARY KEY,\n",
    "        course_name TEXT NOT NULL\n",
    "    )\n",
    "''')\n",
    "\n",
    "# Tạo bảng student\n",
    "cursor.execute('''\n",
    "    CREATE TABLE IF NOT EXISTS student (\n",
    "        student_id INTEGER PRIMARY KEY,\n",
    "        name TEXT NOT NULL,\n",
    "        class TEXT NOT NULL,\n",
    "        course_id INTEGER,\n",
    "        score REAL,\n",
    "        FOREIGN KEY (course_id) REFERENCES course(id)\n",
    "    )\n",
    "''')\n",
    "\n",
    "# Lưu thay đổi\n",
    "conn.commit()\n",
    "conn.close()\n"
   ]
  },
  {
   "cell_type": "code",
   "execution_count": null,
   "metadata": {},
   "outputs": [],
   "source": [
    "conn = sqlite3.connect(\"university.db\")\n",
    "cursor = conn.cursor()\n",
    "\n",
    "# Chèn dữ liệu vào bảng course\n",
    "courses = [\n",
    "    (12, \"Giai tich\"),\n",
    "    (34, \"Thong ke\"),\n",
    "    (26, \"Tin hoc\")\n",
    "]\n",
    "cursor.executemany(\"INSERT INTO course (id, course_name) VALUES (?, ?)\", courses)\n",
    "\n",
    "# Chèn dữ liệu vào bảng student\n",
    "students = [\n",
    "    (1, \"Nguyen Minh Hoang\", \"May Tinh\", 12, 6.7),\n",
    "    (2, \"Tran Thi Lan\", \"Kinh Te\", 34, 9.2),\n",
    "    (3, \"Pham Van Nam\", \"Toan Tin\", None, 7.9),\n",
    "    (4, \"Le Thanh Huyen\", \"Toan Tin\", 20, 7.2),\n",
    "    (5, \"Vu Quoc Anh\", \"May Tinh\", 24, 8.0),\n",
    "    (6, \"Dang Thuy Linh\", \"May Tinh\", 24, 5.5),\n",
    "    (7, \"Bui Tien Dung\", \"Kinh Te\", 34, 9.2),\n",
    "    (8, \"Ho Ngoc Mai\", \"Toan Tin\", 20, 8.8),\n",
    "    (9, \"Duong Huu Phuc\", \"Kinh Te\", None, 7.2),\n",
    "    (10, \"Cao Thi Hanh\", \"May Tinh\", None, 7.0)\n",
    "]\n",
    "cursor.executemany(\"INSERT INTO student (student_id, name, class, course_id, score) VALUES (?, ?, ?, ?, ?)\", students)\n",
    "\n",
    "conn.commit()\n",
    "conn.close()\n"
   ]
  },
  {
   "cell_type": "code",
   "execution_count": 4,
   "metadata": {},
   "outputs": [
    {
     "name": "stdout",
     "output_type": "stream",
     "text": [
      "Dữ liệu bảng student:\n"
     ]
    },
    {
     "data": {
      "text/html": [
       "<div>\n",
       "<style scoped>\n",
       "    .dataframe tbody tr th:only-of-type {\n",
       "        vertical-align: middle;\n",
       "    }\n",
       "\n",
       "    .dataframe tbody tr th {\n",
       "        vertical-align: top;\n",
       "    }\n",
       "\n",
       "    .dataframe thead th {\n",
       "        text-align: right;\n",
       "    }\n",
       "</style>\n",
       "<table border=\"1\" class=\"dataframe\">\n",
       "  <thead>\n",
       "    <tr style=\"text-align: right;\">\n",
       "      <th></th>\n",
       "      <th>student_id</th>\n",
       "      <th>name</th>\n",
       "      <th>class</th>\n",
       "      <th>course_id</th>\n",
       "      <th>score</th>\n",
       "    </tr>\n",
       "  </thead>\n",
       "  <tbody>\n",
       "    <tr>\n",
       "      <th>0</th>\n",
       "      <td>1</td>\n",
       "      <td>Nguyen Minh Hoang</td>\n",
       "      <td>May Tinh</td>\n",
       "      <td>12.0</td>\n",
       "      <td>6.7</td>\n",
       "    </tr>\n",
       "    <tr>\n",
       "      <th>1</th>\n",
       "      <td>2</td>\n",
       "      <td>Tran Thi Lan</td>\n",
       "      <td>Kinh Te</td>\n",
       "      <td>34.0</td>\n",
       "      <td>9.2</td>\n",
       "    </tr>\n",
       "    <tr>\n",
       "      <th>2</th>\n",
       "      <td>3</td>\n",
       "      <td>Pham Van Nam</td>\n",
       "      <td>Toan Tin</td>\n",
       "      <td>NaN</td>\n",
       "      <td>7.9</td>\n",
       "    </tr>\n",
       "    <tr>\n",
       "      <th>3</th>\n",
       "      <td>4</td>\n",
       "      <td>Le Thanh Huyen</td>\n",
       "      <td>Toan Tin</td>\n",
       "      <td>20.0</td>\n",
       "      <td>7.2</td>\n",
       "    </tr>\n",
       "    <tr>\n",
       "      <th>4</th>\n",
       "      <td>5</td>\n",
       "      <td>Vu Quoc Anh</td>\n",
       "      <td>May Tinh</td>\n",
       "      <td>24.0</td>\n",
       "      <td>8.0</td>\n",
       "    </tr>\n",
       "    <tr>\n",
       "      <th>5</th>\n",
       "      <td>6</td>\n",
       "      <td>Dang Thuy Linh</td>\n",
       "      <td>May Tinh</td>\n",
       "      <td>24.0</td>\n",
       "      <td>5.5</td>\n",
       "    </tr>\n",
       "    <tr>\n",
       "      <th>6</th>\n",
       "      <td>7</td>\n",
       "      <td>Bui Tien Dung</td>\n",
       "      <td>Kinh Te</td>\n",
       "      <td>34.0</td>\n",
       "      <td>9.2</td>\n",
       "    </tr>\n",
       "    <tr>\n",
       "      <th>7</th>\n",
       "      <td>8</td>\n",
       "      <td>Ho Ngoc Mai</td>\n",
       "      <td>Toan Tin</td>\n",
       "      <td>20.0</td>\n",
       "      <td>8.8</td>\n",
       "    </tr>\n",
       "    <tr>\n",
       "      <th>8</th>\n",
       "      <td>9</td>\n",
       "      <td>Duong Huu Phuc</td>\n",
       "      <td>Kinh Te</td>\n",
       "      <td>NaN</td>\n",
       "      <td>7.2</td>\n",
       "    </tr>\n",
       "    <tr>\n",
       "      <th>9</th>\n",
       "      <td>10</td>\n",
       "      <td>Cao Thi Hanh</td>\n",
       "      <td>May Tinh</td>\n",
       "      <td>NaN</td>\n",
       "      <td>7.0</td>\n",
       "    </tr>\n",
       "  </tbody>\n",
       "</table>\n",
       "</div>"
      ],
      "text/plain": [
       "   student_id               name     class  course_id  score\n",
       "0           1  Nguyen Minh Hoang  May Tinh       12.0    6.7\n",
       "1           2       Tran Thi Lan   Kinh Te       34.0    9.2\n",
       "2           3       Pham Van Nam  Toan Tin        NaN    7.9\n",
       "3           4     Le Thanh Huyen  Toan Tin       20.0    7.2\n",
       "4           5        Vu Quoc Anh  May Tinh       24.0    8.0\n",
       "5           6     Dang Thuy Linh  May Tinh       24.0    5.5\n",
       "6           7      Bui Tien Dung   Kinh Te       34.0    9.2\n",
       "7           8        Ho Ngoc Mai  Toan Tin       20.0    8.8\n",
       "8           9     Duong Huu Phuc   Kinh Te        NaN    7.2\n",
       "9          10       Cao Thi Hanh  May Tinh        NaN    7.0"
      ]
     },
     "metadata": {},
     "output_type": "display_data"
    },
    {
     "name": "stdout",
     "output_type": "stream",
     "text": [
      "Dữ liệu bảng course:\n"
     ]
    },
    {
     "data": {
      "text/html": [
       "<div>\n",
       "<style scoped>\n",
       "    .dataframe tbody tr th:only-of-type {\n",
       "        vertical-align: middle;\n",
       "    }\n",
       "\n",
       "    .dataframe tbody tr th {\n",
       "        vertical-align: top;\n",
       "    }\n",
       "\n",
       "    .dataframe thead th {\n",
       "        text-align: right;\n",
       "    }\n",
       "</style>\n",
       "<table border=\"1\" class=\"dataframe\">\n",
       "  <thead>\n",
       "    <tr style=\"text-align: right;\">\n",
       "      <th></th>\n",
       "      <th>id</th>\n",
       "      <th>course_name</th>\n",
       "    </tr>\n",
       "  </thead>\n",
       "  <tbody>\n",
       "    <tr>\n",
       "      <th>0</th>\n",
       "      <td>12</td>\n",
       "      <td>Giai tich</td>\n",
       "    </tr>\n",
       "    <tr>\n",
       "      <th>1</th>\n",
       "      <td>26</td>\n",
       "      <td>Tin hoc</td>\n",
       "    </tr>\n",
       "    <tr>\n",
       "      <th>2</th>\n",
       "      <td>34</td>\n",
       "      <td>Thong ke</td>\n",
       "    </tr>\n",
       "  </tbody>\n",
       "</table>\n",
       "</div>"
      ],
      "text/plain": [
       "   id course_name\n",
       "0  12   Giai tich\n",
       "1  26     Tin hoc\n",
       "2  34    Thong ke"
      ]
     },
     "metadata": {},
     "output_type": "display_data"
    }
   ],
   "source": [
    "conn = sqlite3.connect(\"university.db\")\n",
    "cursor = conn.cursor()\n",
    "import pandas as pd\n",
    "# Hiển thị dữ liệu ban đầu\n",
    "def show_table(query):\n",
    "    df = pd.read_sql_query(query, conn)\n",
    "    display(df)\n",
    "\n",
    "print(\"Dữ liệu bảng student:\")\n",
    "show_table(\"SELECT * FROM student\")\n",
    "\n",
    "print(\"Dữ liệu bảng course:\")\n",
    "show_table(\"SELECT * FROM course\")"
   ]
  },
  {
   "cell_type": "markdown",
   "metadata": {},
   "source": [
    "#### **2. Hãy kết nối hai bảng trên theo các cách**"
   ]
  },
  {
   "cell_type": "markdown",
   "metadata": {},
   "source": [
    "**2.1.  Sử dụng tích Decartes**"
   ]
  },
  {
   "cell_type": "code",
   "execution_count": 5,
   "metadata": {},
   "outputs": [
    {
     "name": "stdout",
     "output_type": "stream",
     "text": [
      "Tích Descartes:\n"
     ]
    },
    {
     "data": {
      "text/html": [
       "<div>\n",
       "<style scoped>\n",
       "    .dataframe tbody tr th:only-of-type {\n",
       "        vertical-align: middle;\n",
       "    }\n",
       "\n",
       "    .dataframe tbody tr th {\n",
       "        vertical-align: top;\n",
       "    }\n",
       "\n",
       "    .dataframe thead th {\n",
       "        text-align: right;\n",
       "    }\n",
       "</style>\n",
       "<table border=\"1\" class=\"dataframe\">\n",
       "  <thead>\n",
       "    <tr style=\"text-align: right;\">\n",
       "      <th></th>\n",
       "      <th>student_id</th>\n",
       "      <th>name</th>\n",
       "      <th>class</th>\n",
       "      <th>course_id</th>\n",
       "      <th>score</th>\n",
       "      <th>id</th>\n",
       "      <th>course_name</th>\n",
       "    </tr>\n",
       "  </thead>\n",
       "  <tbody>\n",
       "    <tr>\n",
       "      <th>0</th>\n",
       "      <td>1</td>\n",
       "      <td>Nguyen Minh Hoang</td>\n",
       "      <td>May Tinh</td>\n",
       "      <td>12.0</td>\n",
       "      <td>6.7</td>\n",
       "      <td>12</td>\n",
       "      <td>Giai tich</td>\n",
       "    </tr>\n",
       "    <tr>\n",
       "      <th>1</th>\n",
       "      <td>1</td>\n",
       "      <td>Nguyen Minh Hoang</td>\n",
       "      <td>May Tinh</td>\n",
       "      <td>12.0</td>\n",
       "      <td>6.7</td>\n",
       "      <td>26</td>\n",
       "      <td>Tin hoc</td>\n",
       "    </tr>\n",
       "    <tr>\n",
       "      <th>2</th>\n",
       "      <td>1</td>\n",
       "      <td>Nguyen Minh Hoang</td>\n",
       "      <td>May Tinh</td>\n",
       "      <td>12.0</td>\n",
       "      <td>6.7</td>\n",
       "      <td>34</td>\n",
       "      <td>Thong ke</td>\n",
       "    </tr>\n",
       "    <tr>\n",
       "      <th>3</th>\n",
       "      <td>2</td>\n",
       "      <td>Tran Thi Lan</td>\n",
       "      <td>Kinh Te</td>\n",
       "      <td>34.0</td>\n",
       "      <td>9.2</td>\n",
       "      <td>12</td>\n",
       "      <td>Giai tich</td>\n",
       "    </tr>\n",
       "    <tr>\n",
       "      <th>4</th>\n",
       "      <td>2</td>\n",
       "      <td>Tran Thi Lan</td>\n",
       "      <td>Kinh Te</td>\n",
       "      <td>34.0</td>\n",
       "      <td>9.2</td>\n",
       "      <td>26</td>\n",
       "      <td>Tin hoc</td>\n",
       "    </tr>\n",
       "    <tr>\n",
       "      <th>5</th>\n",
       "      <td>2</td>\n",
       "      <td>Tran Thi Lan</td>\n",
       "      <td>Kinh Te</td>\n",
       "      <td>34.0</td>\n",
       "      <td>9.2</td>\n",
       "      <td>34</td>\n",
       "      <td>Thong ke</td>\n",
       "    </tr>\n",
       "    <tr>\n",
       "      <th>6</th>\n",
       "      <td>3</td>\n",
       "      <td>Pham Van Nam</td>\n",
       "      <td>Toan Tin</td>\n",
       "      <td>NaN</td>\n",
       "      <td>7.9</td>\n",
       "      <td>12</td>\n",
       "      <td>Giai tich</td>\n",
       "    </tr>\n",
       "    <tr>\n",
       "      <th>7</th>\n",
       "      <td>3</td>\n",
       "      <td>Pham Van Nam</td>\n",
       "      <td>Toan Tin</td>\n",
       "      <td>NaN</td>\n",
       "      <td>7.9</td>\n",
       "      <td>26</td>\n",
       "      <td>Tin hoc</td>\n",
       "    </tr>\n",
       "    <tr>\n",
       "      <th>8</th>\n",
       "      <td>3</td>\n",
       "      <td>Pham Van Nam</td>\n",
       "      <td>Toan Tin</td>\n",
       "      <td>NaN</td>\n",
       "      <td>7.9</td>\n",
       "      <td>34</td>\n",
       "      <td>Thong ke</td>\n",
       "    </tr>\n",
       "    <tr>\n",
       "      <th>9</th>\n",
       "      <td>4</td>\n",
       "      <td>Le Thanh Huyen</td>\n",
       "      <td>Toan Tin</td>\n",
       "      <td>20.0</td>\n",
       "      <td>7.2</td>\n",
       "      <td>12</td>\n",
       "      <td>Giai tich</td>\n",
       "    </tr>\n",
       "    <tr>\n",
       "      <th>10</th>\n",
       "      <td>4</td>\n",
       "      <td>Le Thanh Huyen</td>\n",
       "      <td>Toan Tin</td>\n",
       "      <td>20.0</td>\n",
       "      <td>7.2</td>\n",
       "      <td>26</td>\n",
       "      <td>Tin hoc</td>\n",
       "    </tr>\n",
       "    <tr>\n",
       "      <th>11</th>\n",
       "      <td>4</td>\n",
       "      <td>Le Thanh Huyen</td>\n",
       "      <td>Toan Tin</td>\n",
       "      <td>20.0</td>\n",
       "      <td>7.2</td>\n",
       "      <td>34</td>\n",
       "      <td>Thong ke</td>\n",
       "    </tr>\n",
       "    <tr>\n",
       "      <th>12</th>\n",
       "      <td>5</td>\n",
       "      <td>Vu Quoc Anh</td>\n",
       "      <td>May Tinh</td>\n",
       "      <td>24.0</td>\n",
       "      <td>8.0</td>\n",
       "      <td>12</td>\n",
       "      <td>Giai tich</td>\n",
       "    </tr>\n",
       "    <tr>\n",
       "      <th>13</th>\n",
       "      <td>5</td>\n",
       "      <td>Vu Quoc Anh</td>\n",
       "      <td>May Tinh</td>\n",
       "      <td>24.0</td>\n",
       "      <td>8.0</td>\n",
       "      <td>26</td>\n",
       "      <td>Tin hoc</td>\n",
       "    </tr>\n",
       "    <tr>\n",
       "      <th>14</th>\n",
       "      <td>5</td>\n",
       "      <td>Vu Quoc Anh</td>\n",
       "      <td>May Tinh</td>\n",
       "      <td>24.0</td>\n",
       "      <td>8.0</td>\n",
       "      <td>34</td>\n",
       "      <td>Thong ke</td>\n",
       "    </tr>\n",
       "    <tr>\n",
       "      <th>15</th>\n",
       "      <td>6</td>\n",
       "      <td>Dang Thuy Linh</td>\n",
       "      <td>May Tinh</td>\n",
       "      <td>24.0</td>\n",
       "      <td>5.5</td>\n",
       "      <td>12</td>\n",
       "      <td>Giai tich</td>\n",
       "    </tr>\n",
       "    <tr>\n",
       "      <th>16</th>\n",
       "      <td>6</td>\n",
       "      <td>Dang Thuy Linh</td>\n",
       "      <td>May Tinh</td>\n",
       "      <td>24.0</td>\n",
       "      <td>5.5</td>\n",
       "      <td>26</td>\n",
       "      <td>Tin hoc</td>\n",
       "    </tr>\n",
       "    <tr>\n",
       "      <th>17</th>\n",
       "      <td>6</td>\n",
       "      <td>Dang Thuy Linh</td>\n",
       "      <td>May Tinh</td>\n",
       "      <td>24.0</td>\n",
       "      <td>5.5</td>\n",
       "      <td>34</td>\n",
       "      <td>Thong ke</td>\n",
       "    </tr>\n",
       "    <tr>\n",
       "      <th>18</th>\n",
       "      <td>7</td>\n",
       "      <td>Bui Tien Dung</td>\n",
       "      <td>Kinh Te</td>\n",
       "      <td>34.0</td>\n",
       "      <td>9.2</td>\n",
       "      <td>12</td>\n",
       "      <td>Giai tich</td>\n",
       "    </tr>\n",
       "    <tr>\n",
       "      <th>19</th>\n",
       "      <td>7</td>\n",
       "      <td>Bui Tien Dung</td>\n",
       "      <td>Kinh Te</td>\n",
       "      <td>34.0</td>\n",
       "      <td>9.2</td>\n",
       "      <td>26</td>\n",
       "      <td>Tin hoc</td>\n",
       "    </tr>\n",
       "    <tr>\n",
       "      <th>20</th>\n",
       "      <td>7</td>\n",
       "      <td>Bui Tien Dung</td>\n",
       "      <td>Kinh Te</td>\n",
       "      <td>34.0</td>\n",
       "      <td>9.2</td>\n",
       "      <td>34</td>\n",
       "      <td>Thong ke</td>\n",
       "    </tr>\n",
       "    <tr>\n",
       "      <th>21</th>\n",
       "      <td>8</td>\n",
       "      <td>Ho Ngoc Mai</td>\n",
       "      <td>Toan Tin</td>\n",
       "      <td>20.0</td>\n",
       "      <td>8.8</td>\n",
       "      <td>12</td>\n",
       "      <td>Giai tich</td>\n",
       "    </tr>\n",
       "    <tr>\n",
       "      <th>22</th>\n",
       "      <td>8</td>\n",
       "      <td>Ho Ngoc Mai</td>\n",
       "      <td>Toan Tin</td>\n",
       "      <td>20.0</td>\n",
       "      <td>8.8</td>\n",
       "      <td>26</td>\n",
       "      <td>Tin hoc</td>\n",
       "    </tr>\n",
       "    <tr>\n",
       "      <th>23</th>\n",
       "      <td>8</td>\n",
       "      <td>Ho Ngoc Mai</td>\n",
       "      <td>Toan Tin</td>\n",
       "      <td>20.0</td>\n",
       "      <td>8.8</td>\n",
       "      <td>34</td>\n",
       "      <td>Thong ke</td>\n",
       "    </tr>\n",
       "    <tr>\n",
       "      <th>24</th>\n",
       "      <td>9</td>\n",
       "      <td>Duong Huu Phuc</td>\n",
       "      <td>Kinh Te</td>\n",
       "      <td>NaN</td>\n",
       "      <td>7.2</td>\n",
       "      <td>12</td>\n",
       "      <td>Giai tich</td>\n",
       "    </tr>\n",
       "    <tr>\n",
       "      <th>25</th>\n",
       "      <td>9</td>\n",
       "      <td>Duong Huu Phuc</td>\n",
       "      <td>Kinh Te</td>\n",
       "      <td>NaN</td>\n",
       "      <td>7.2</td>\n",
       "      <td>26</td>\n",
       "      <td>Tin hoc</td>\n",
       "    </tr>\n",
       "    <tr>\n",
       "      <th>26</th>\n",
       "      <td>9</td>\n",
       "      <td>Duong Huu Phuc</td>\n",
       "      <td>Kinh Te</td>\n",
       "      <td>NaN</td>\n",
       "      <td>7.2</td>\n",
       "      <td>34</td>\n",
       "      <td>Thong ke</td>\n",
       "    </tr>\n",
       "    <tr>\n",
       "      <th>27</th>\n",
       "      <td>10</td>\n",
       "      <td>Cao Thi Hanh</td>\n",
       "      <td>May Tinh</td>\n",
       "      <td>NaN</td>\n",
       "      <td>7.0</td>\n",
       "      <td>12</td>\n",
       "      <td>Giai tich</td>\n",
       "    </tr>\n",
       "    <tr>\n",
       "      <th>28</th>\n",
       "      <td>10</td>\n",
       "      <td>Cao Thi Hanh</td>\n",
       "      <td>May Tinh</td>\n",
       "      <td>NaN</td>\n",
       "      <td>7.0</td>\n",
       "      <td>26</td>\n",
       "      <td>Tin hoc</td>\n",
       "    </tr>\n",
       "    <tr>\n",
       "      <th>29</th>\n",
       "      <td>10</td>\n",
       "      <td>Cao Thi Hanh</td>\n",
       "      <td>May Tinh</td>\n",
       "      <td>NaN</td>\n",
       "      <td>7.0</td>\n",
       "      <td>34</td>\n",
       "      <td>Thong ke</td>\n",
       "    </tr>\n",
       "  </tbody>\n",
       "</table>\n",
       "</div>"
      ],
      "text/plain": [
       "    student_id               name     class  course_id  score  id course_name\n",
       "0            1  Nguyen Minh Hoang  May Tinh       12.0    6.7  12   Giai tich\n",
       "1            1  Nguyen Minh Hoang  May Tinh       12.0    6.7  26     Tin hoc\n",
       "2            1  Nguyen Minh Hoang  May Tinh       12.0    6.7  34    Thong ke\n",
       "3            2       Tran Thi Lan   Kinh Te       34.0    9.2  12   Giai tich\n",
       "4            2       Tran Thi Lan   Kinh Te       34.0    9.2  26     Tin hoc\n",
       "5            2       Tran Thi Lan   Kinh Te       34.0    9.2  34    Thong ke\n",
       "6            3       Pham Van Nam  Toan Tin        NaN    7.9  12   Giai tich\n",
       "7            3       Pham Van Nam  Toan Tin        NaN    7.9  26     Tin hoc\n",
       "8            3       Pham Van Nam  Toan Tin        NaN    7.9  34    Thong ke\n",
       "9            4     Le Thanh Huyen  Toan Tin       20.0    7.2  12   Giai tich\n",
       "10           4     Le Thanh Huyen  Toan Tin       20.0    7.2  26     Tin hoc\n",
       "11           4     Le Thanh Huyen  Toan Tin       20.0    7.2  34    Thong ke\n",
       "12           5        Vu Quoc Anh  May Tinh       24.0    8.0  12   Giai tich\n",
       "13           5        Vu Quoc Anh  May Tinh       24.0    8.0  26     Tin hoc\n",
       "14           5        Vu Quoc Anh  May Tinh       24.0    8.0  34    Thong ke\n",
       "15           6     Dang Thuy Linh  May Tinh       24.0    5.5  12   Giai tich\n",
       "16           6     Dang Thuy Linh  May Tinh       24.0    5.5  26     Tin hoc\n",
       "17           6     Dang Thuy Linh  May Tinh       24.0    5.5  34    Thong ke\n",
       "18           7      Bui Tien Dung   Kinh Te       34.0    9.2  12   Giai tich\n",
       "19           7      Bui Tien Dung   Kinh Te       34.0    9.2  26     Tin hoc\n",
       "20           7      Bui Tien Dung   Kinh Te       34.0    9.2  34    Thong ke\n",
       "21           8        Ho Ngoc Mai  Toan Tin       20.0    8.8  12   Giai tich\n",
       "22           8        Ho Ngoc Mai  Toan Tin       20.0    8.8  26     Tin hoc\n",
       "23           8        Ho Ngoc Mai  Toan Tin       20.0    8.8  34    Thong ke\n",
       "24           9     Duong Huu Phuc   Kinh Te        NaN    7.2  12   Giai tich\n",
       "25           9     Duong Huu Phuc   Kinh Te        NaN    7.2  26     Tin hoc\n",
       "26           9     Duong Huu Phuc   Kinh Te        NaN    7.2  34    Thong ke\n",
       "27          10       Cao Thi Hanh  May Tinh        NaN    7.0  12   Giai tich\n",
       "28          10       Cao Thi Hanh  May Tinh        NaN    7.0  26     Tin hoc\n",
       "29          10       Cao Thi Hanh  May Tinh        NaN    7.0  34    Thong ke"
      ]
     },
     "metadata": {},
     "output_type": "display_data"
    }
   ],
   "source": [
    "print(\"Tích Descartes:\")\n",
    "df_descartes = pd.read_sql_query(\"SELECT * FROM student CROSS JOIN course\", conn)\n",
    "display(df_descartes)\n"
   ]
  },
  {
   "cell_type": "markdown",
   "metadata": {},
   "source": [
    "- **Tích Descartes (Cartesian Product):**\n",
    "  - Kết hợp tất cả các hàng của bảng `student` với tất cả các hàng của bảng `course`.\n",
    "  - **Kết quả:** 30 hàng (10 sinh viên × 3 khóa học)."
   ]
  },
  {
   "cell_type": "markdown",
   "metadata": {},
   "source": [
    "**2.2. Sử dụng JOIN: INNER JOIN, LEFT JOIN, RIGHT JOIN, FULL OUTER JOIN**"
   ]
  },
  {
   "cell_type": "code",
   "execution_count": 6,
   "metadata": {},
   "outputs": [
    {
     "name": "stdout",
     "output_type": "stream",
     "text": [
      "INNER JOIN:\n",
      "(1, 'Nguyen Minh Hoang', 'May Tinh', 'Giai tich', 6.7)\n",
      "(2, 'Tran Thi Lan', 'Kinh Te', 'Thong ke', 9.2)\n",
      "(7, 'Bui Tien Dung', 'Kinh Te', 'Thong ke', 9.2)\n"
     ]
    }
   ],
   "source": [
    "# INNER JOIN\n",
    "cursor.execute('''\n",
    "SELECT s.student_id, s.name, s.class, c.course_name, s.score\n",
    "FROM student s\n",
    "INNER JOIN course c ON s.course_id = c.id\n",
    "''')\n",
    "inner_join = cursor.fetchall()\n",
    "print(\"INNER JOIN:\")\n",
    "for row in inner_join:\n",
    "    print(row)"
   ]
  },
  {
   "cell_type": "markdown",
   "metadata": {},
   "source": [
    "  - **INNER JOIN:** Chỉ lấy các hàng có khớp `course_id` trong cả hai bảng. **Kết quả:** 3 hàng."
   ]
  },
  {
   "cell_type": "code",
   "execution_count": 7,
   "metadata": {},
   "outputs": [
    {
     "name": "stdout",
     "output_type": "stream",
     "text": [
      "LEFT JOIN:\n",
      "(1, 'Nguyen Minh Hoang', 'May Tinh', 'Giai tich', 6.7)\n",
      "(2, 'Tran Thi Lan', 'Kinh Te', 'Thong ke', 9.2)\n",
      "(3, 'Pham Van Nam', 'Toan Tin', None, 7.9)\n",
      "(4, 'Le Thanh Huyen', 'Toan Tin', None, 7.2)\n",
      "(5, 'Vu Quoc Anh', 'May Tinh', None, 8.0)\n",
      "(6, 'Dang Thuy Linh', 'May Tinh', None, 5.5)\n",
      "(7, 'Bui Tien Dung', 'Kinh Te', 'Thong ke', 9.2)\n",
      "(8, 'Ho Ngoc Mai', 'Toan Tin', None, 8.8)\n",
      "(9, 'Duong Huu Phuc', 'Kinh Te', None, 7.2)\n",
      "(10, 'Cao Thi Hanh', 'May Tinh', None, 7.0)\n"
     ]
    }
   ],
   "source": [
    "# LEFT JOIN\n",
    "cursor.execute('''\n",
    "SELECT s.student_id, s.name, s.class, c.course_name, s.score\n",
    "FROM student s\n",
    "LEFT JOIN course c ON s.course_id = c.id\n",
    "''')\n",
    "left_join = cursor.fetchall()\n",
    "print(\"LEFT JOIN:\")\n",
    "for row in left_join:\n",
    "    print(row)"
   ]
  },
  {
   "cell_type": "markdown",
   "metadata": {},
   "source": [
    " - **LEFT JOIN:** Lấy tất cả các hàng từ bảng `student` và khớp với bảng `course` nếu có. **Kết quả:** 10 hàng."
   ]
  },
  {
   "cell_type": "code",
   "execution_count": 8,
   "metadata": {},
   "outputs": [
    {
     "name": "stdout",
     "output_type": "stream",
     "text": [
      "RIGHT JOIN:\n",
      "(1, 'Nguyen Minh Hoang', 'May Tinh', 'Giai tich', 6.7)\n",
      "(2, 'Tran Thi Lan', 'Kinh Te', 'Thong ke', 9.2)\n",
      "(7, 'Bui Tien Dung', 'Kinh Te', 'Thong ke', 9.2)\n",
      "(None, None, None, 'Tin hoc', None)\n"
     ]
    }
   ],
   "source": [
    "# RIGHT JOIN\n",
    "cursor.execute('''\n",
    "SELECT s.student_id, s.name, s.class, c.course_name, s.score\n",
    "FROM student s\n",
    "RIGHT JOIN course c ON s.course_id = c.id\n",
    "''')\n",
    "right_join = cursor.fetchall()\n",
    "print(\"RIGHT JOIN:\")\n",
    "for row in right_join:\n",
    "    print(row)"
   ]
  },
  {
   "cell_type": "markdown",
   "metadata": {},
   "source": [
    "  - **RIGHT JOIN:** Lấy tất cả các hàng từ bảng `course` và khớp với bảng `student` nếu có. **Kết quả:** 4 hàng."
   ]
  },
  {
   "cell_type": "code",
   "execution_count": 9,
   "metadata": {},
   "outputs": [
    {
     "name": "stdout",
     "output_type": "stream",
     "text": [
      "FULL OUTER JOIN:\n",
      "(None, None, None, 'Tin hoc', None)\n",
      "(1, 'Nguyen Minh Hoang', 'May Tinh', 'Giai tich', 6.7)\n",
      "(2, 'Tran Thi Lan', 'Kinh Te', 'Thong ke', 9.2)\n",
      "(3, 'Pham Van Nam', 'Toan Tin', None, 7.9)\n",
      "(4, 'Le Thanh Huyen', 'Toan Tin', None, 7.2)\n",
      "(5, 'Vu Quoc Anh', 'May Tinh', None, 8.0)\n",
      "(6, 'Dang Thuy Linh', 'May Tinh', None, 5.5)\n",
      "(7, 'Bui Tien Dung', 'Kinh Te', 'Thong ke', 9.2)\n",
      "(8, 'Ho Ngoc Mai', 'Toan Tin', None, 8.8)\n",
      "(9, 'Duong Huu Phuc', 'Kinh Te', None, 7.2)\n",
      "(10, 'Cao Thi Hanh', 'May Tinh', None, 7.0)\n"
     ]
    }
   ],
   "source": [
    "# FULL OUTER JOIN (SQLite không hỗ trợ FULL OUTER JOIN, sử dụng UNION của LEFT JOIN và RIGHT JOIN)\n",
    "cursor.execute('''\n",
    "SELECT s.student_id, s.name, s.class, c.course_name, s.score\n",
    "FROM student s\n",
    "LEFT JOIN course c ON s.course_id = c.id\n",
    "UNION\n",
    "SELECT s.student_id, s.name, s.class, c.course_name, s.score\n",
    "FROM student s\n",
    "RIGHT JOIN course c ON s.course_id = c.id\n",
    "''')\n",
    "full_outer_join = cursor.fetchall()\n",
    "print(\"FULL OUTER JOIN:\")\n",
    "for row in full_outer_join:\n",
    "    print(row)"
   ]
  },
  {
   "cell_type": "markdown",
   "metadata": {},
   "source": [
    "  - **FULL OUTER JOIN:** Lấy tất cả các hàng từ cả hai bảng, bao gồm cả các hàng không khớp. **Kết quả:** 11 hàng."
   ]
  },
  {
   "cell_type": "markdown",
   "metadata": {},
   "source": [
    "### **3.Hãy cập nhật những giá trị course_id còn thiếu trong bảng student bằng câu lệnh SQL,trong đó các giá trị được điền là những giá trị nằm trong bảng course và loại bỏ những bản ghi tham gia những môn học không tồn tại bảng course**"
   ]
  },
  {
   "cell_type": "code",
   "execution_count": 10,
   "metadata": {},
   "outputs": [],
   "source": [
    "# Điền giá trị course_id còn thiếu bằng cách chọn ngẫu nhiên từ bảng course\n",
    "cursor.execute('''\n",
    "UPDATE student\n",
    "SET course_id = (SELECT id FROM course ORDER BY RANDOM() LIMIT 1)\n",
    "WHERE course_id IS NULL\n",
    "''')\n",
    "conn.commit()"
   ]
  },
  {
   "cell_type": "code",
   "execution_count": 11,
   "metadata": {},
   "outputs": [],
   "source": [
    "# Loại bỏ các bản ghi có course_id không tồn tại trong bảng course\n",
    "cursor.execute('''\n",
    "DELETE FROM student\n",
    "WHERE course_id NOT IN (SELECT id FROM course)\n",
    "''')\n",
    "conn.commit()"
   ]
  },
  {
   "cell_type": "code",
   "execution_count": 14,
   "metadata": {},
   "outputs": [
    {
     "name": "stdout",
     "output_type": "stream",
     "text": [
      "Danh sách sinh viên sau khi cập nhật:\n",
      "(1, 'Nguyen Minh Hoang', 'May Tinh', 12, 6.7)\n",
      "(2, 'Tran Thi Lan', 'Kinh Te', 34, 9.2)\n",
      "(3, 'Pham Van Nam', 'Toan Tin', 26, 7.9)\n",
      "(7, 'Bui Tien Dung', 'Kinh Te', 34, 9.2)\n",
      "(9, 'Duong Huu Phuc', 'Kinh Te', 26, 7.2)\n",
      "(10, 'Cao Thi Hanh', 'May Tinh', 26, 7.0)\n"
     ]
    }
   ],
   "source": [
    "# Hiển thị kết quả sau khi cập nhật\n",
    "cursor.execute('SELECT * FROM student')\n",
    "updated_students = cursor.fetchall()\n",
    "\n",
    "print(\"Danh sách sinh viên sau khi cập nhật:\")\n",
    "for row in updated_students:\n",
    "    print(row)"
   ]
  },
  {
   "cell_type": "markdown",
   "metadata": {},
   "source": [
    "- **Cập nhật giá trị `course_id` còn thiếu:**\n",
    "  - Sử dụng giá trị ngẫu nhiên từ bảng `course` để điền vào các giá trị `NULL`.\n",
    "  - *Ví dụ* Cao Thi Hanh (ban đầu `course_id = NULL`) được gán `course_id = 26`.\n",
    "\n",
    "- **Loại bỏ các bản ghi không hợp lệ:**\n",
    "  - Xóa các hàng có `course_id` không tồn tại trong bảng `course`."
   ]
  },
  {
   "cell_type": "markdown",
   "metadata": {},
   "source": [
    "**3.1. Tổng số sinh viên, điểm trung bình của từng lớp.**"
   ]
  },
  {
   "cell_type": "code",
   "execution_count": 28,
   "metadata": {},
   "outputs": [
    {
     "name": "stdout",
     "output_type": "stream",
     "text": [
      "Thống kê theo lớp:\n",
      "('Kinh Te', 3, 8.533333333333333)\n",
      "('May Tinh', 2, 6.85)\n",
      "('Toan Tin', 1, 7.9)\n"
     ]
    }
   ],
   "source": [
    "cursor.execute('''\n",
    "SELECT class, COUNT(student_id) AS total_students, AVG(score) AS average_score\n",
    "FROM student\n",
    "GROUP BY class\n",
    "''')\n",
    "class_stats = cursor.fetchall()\n",
    "print(\"Thống kê theo lớp:\")\n",
    "for row in class_stats:\n",
    "    print(row)"
   ]
  },
  {
   "cell_type": "markdown",
   "metadata": {},
   "source": [
    "- Lớp Kinh Tế có nhiều sinh viên nhất (3 sinh viên) và điểm trung bình cao nhất (8.53).\n",
    "- Lớp Máy Tính có điểm trung bình thấp nhất (6.85).\n",
    "- Lớp Toán Tin chỉ có 1 sinh viên nên điểm trung bình chính là điểm của sinh viên đó (7.9)."
   ]
  },
  {
   "cell_type": "markdown",
   "metadata": {},
   "source": [
    "**3.2. Tổng số sinh viên, điểm trung bình của từng môn học**"
   ]
  },
  {
   "cell_type": "code",
   "execution_count": 29,
   "metadata": {},
   "outputs": [
    {
     "name": "stdout",
     "output_type": "stream",
     "text": [
      "Thống kê theo môn học:\n",
      "('Giai tich', 1, 6.7)\n",
      "('Thong ke', 2, 9.2)\n",
      "('Tin hoc', 3, 7.366666666666667)\n"
     ]
    }
   ],
   "source": [
    "cursor.execute('''\n",
    "SELECT c.course_name, COUNT(s.student_id) AS total_students, AVG(s.score) AS average_score\n",
    "FROM student s\n",
    "JOIN course c ON s.course_id = c.id\n",
    "GROUP BY c.course_name\n",
    "''')\n",
    "course_stats = cursor.fetchall()\n",
    "print(\"Thống kê theo môn học:\")\n",
    "for row in course_stats:\n",
    "    print(row)"
   ]
  },
  {
   "cell_type": "markdown",
   "metadata": {},
   "source": [
    "- Môn Thống kê có điểm trung bình cao nhất (9.2).\n",
    "- Môn Giải tích có điểm trung bình thấp nhất (6.7) nhưng chỉ có 1 sinh viên, nên chưa phản ánh hết thực tế.\n",
    "- Môn Tin học có nhiều sinh viên nhất (3 người) và điểm trung bình ở mức trung bình (7.37)."
   ]
  },
  {
   "cell_type": "markdown",
   "metadata": {},
   "source": [
    "### 3.3. Phân loại thi đua theo số điểm của từng môn học\n",
    "\n",
    "Biết:\n",
    "\n",
    "- **Xuất sắc**: Điểm trung bình **≥ 9.0**  \n",
    "- **Tốt**: Điểm trung bình **từ 6.0 đến 8.9**  \n",
    "- **Kém**: Điểm trung bình **< 6.0**  \n"
   ]
  },
  {
   "cell_type": "code",
   "execution_count": 16,
   "metadata": {},
   "outputs": [
    {
     "name": "stdout",
     "output_type": "stream",
     "text": [
      "Phân loại thi đua:\n",
      "('Giai tich', 6.7, 'Tốt')\n",
      "('Thong ke', 9.2, 'Xuất sắc')\n",
      "('Tin hoc', 7.366666666666667, 'Tốt')\n"
     ]
    }
   ],
   "source": [
    "cursor.execute('''\n",
    "SELECT c.course_name, AVG(s.score) AS average_score,\n",
    "       CASE\n",
    "           WHEN AVG(s.score) >= 9.0 THEN 'Xuất sắc'\n",
    "           WHEN AVG(s.score) >= 6.0 AND AVG(s.score) < 9.0 THEN 'Tốt'\n",
    "           ELSE 'Kém'\n",
    "       END AS performance\n",
    "FROM student s\n",
    "JOIN course c ON s.course_id = c.id\n",
    "GROUP BY c.course_name\n",
    "''')\n",
    "performance_stats = cursor.fetchall()\n",
    "print(\"Phân loại thi đua:\")\n",
    "for row in performance_stats:\n",
    "    print(row)"
   ]
  },
  {
   "cell_type": "markdown",
   "metadata": {},
   "source": [
    "### **4.Hãy xếp hạng sinh viên thông qua:**\n",
    "\n",
    "    a. Điểm số.\n",
    "    b. Điểm số theo lớp học.\n",
    "    c. Điểm số theo mã môn học.\n",
    "và cho biết top 3 sinh viện đạt thứ hạng cao nhất, top 3 sinh viên đạt thứ hạng thấp nhất theo\n",
    "từng trường hợp trên.\n"
   ]
  },
  {
   "cell_type": "code",
   "execution_count": 17,
   "metadata": {},
   "outputs": [
    {
     "name": "stdout",
     "output_type": "stream",
     "text": [
      "Xếp hạng theo điểm số:\n",
      "(2, 'Tran Thi Lan', 9.2, 1)\n",
      "(7, 'Bui Tien Dung', 9.2, 1)\n",
      "(3, 'Pham Van Nam', 7.9, 3)\n",
      "(9, 'Duong Huu Phuc', 7.2, 4)\n",
      "(10, 'Cao Thi Hanh', 7.0, 5)\n",
      "(1, 'Nguyen Minh Hoang', 6.7, 6)\n"
     ]
    }
   ],
   "source": [
    "#xếp hạng theo điểm số\n",
    "cursor.execute('''\n",
    "SELECT student_id, name, score,\n",
    "       RANK() OVER (ORDER BY score DESC) AS rank_overall\n",
    "FROM student\n",
    "''')\n",
    "rank_overall = cursor.fetchall()\n",
    "print(\"Xếp hạng theo điểm số:\")\n",
    "for row in rank_overall:\n",
    "    print(row)"
   ]
  },
  {
   "cell_type": "markdown",
   "metadata": {},
   "source": [
    "- Số 2 và số 7 có điểm số cao nhất (9.2)\n",
    "- Số 1 có điểm số thấp nhất (6.7)"
   ]
  },
  {
   "cell_type": "code",
   "execution_count": 18,
   "metadata": {},
   "outputs": [
    {
     "name": "stdout",
     "output_type": "stream",
     "text": [
      "Xếp hạng theo lớp học:\n",
      "(2, 'Tran Thi Lan', 'Kinh Te', 9.2, 1)\n",
      "(7, 'Bui Tien Dung', 'Kinh Te', 9.2, 1)\n",
      "(9, 'Duong Huu Phuc', 'Kinh Te', 7.2, 3)\n",
      "(10, 'Cao Thi Hanh', 'May Tinh', 7.0, 1)\n",
      "(1, 'Nguyen Minh Hoang', 'May Tinh', 6.7, 2)\n",
      "(3, 'Pham Van Nam', 'Toan Tin', 7.9, 1)\n"
     ]
    }
   ],
   "source": [
    "#xếp hạng theo số lớp học\n",
    "cursor.execute('''\n",
    "SELECT student_id, name, class, score,\n",
    "       RANK() OVER (PARTITION BY class ORDER BY score DESC) AS rank_by_class\n",
    "FROM student\n",
    "''')\n",
    "rank_by_class = cursor.fetchall()\n",
    "print(\"Xếp hạng theo lớp học:\")\n",
    "for row in rank_by_class:\n",
    "    print(row)"
   ]
  },
  {
   "cell_type": "code",
   "execution_count": 19,
   "metadata": {},
   "outputs": [
    {
     "name": "stdout",
     "output_type": "stream",
     "text": [
      "Xếp hạng theo mã môn học:\n",
      "(1, 'Nguyen Minh Hoang', 12, 6.7, 1)\n",
      "(3, 'Pham Van Nam', 26, 7.9, 1)\n",
      "(9, 'Duong Huu Phuc', 26, 7.2, 2)\n",
      "(10, 'Cao Thi Hanh', 26, 7.0, 3)\n",
      "(2, 'Tran Thi Lan', 34, 9.2, 1)\n",
      "(7, 'Bui Tien Dung', 34, 9.2, 1)\n"
     ]
    }
   ],
   "source": [
    "cursor.execute('''\n",
    "SELECT student_id, name, course_id, score,\n",
    "       RANK() OVER (PARTITION BY course_id ORDER BY score DESC) AS rank_by_course\n",
    "FROM student\n",
    "''')\n",
    "rank_by_course = cursor.fetchall()\n",
    "print(\"Xếp hạng theo mã môn học:\")\n",
    "for row in rank_by_course:\n",
    "    print(row)"
   ]
  },
  {
   "cell_type": "code",
   "execution_count": 20,
   "metadata": {},
   "outputs": [
    {
     "name": "stdout",
     "output_type": "stream",
     "text": [
      "Top 3 sinh viên cao nhất:\n",
      "(2, 'Tran Thi Lan', 9.2)\n",
      "(7, 'Bui Tien Dung', 9.2)\n",
      "(3, 'Pham Van Nam', 7.9)\n",
      "Top 3 sinh viên thấp nhất:\n",
      "(1, 'Nguyen Minh Hoang', 6.7)\n",
      "(10, 'Cao Thi Hanh', 7.0)\n",
      "(9, 'Duong Huu Phuc', 7.2)\n"
     ]
    }
   ],
   "source": [
    "# Top 3 cao nhất\n",
    "cursor.execute('''\n",
    "SELECT student_id, name, score\n",
    "FROM student\n",
    "ORDER BY score DESC\n",
    "LIMIT 3\n",
    "''')\n",
    "top_3 = cursor.fetchall()\n",
    "print(\"Top 3 sinh viên cao nhất:\")\n",
    "for row in top_3:\n",
    "    print(row)\n",
    "\n",
    "# Top 3 thấp nhất\n",
    "cursor.execute('''\n",
    "SELECT student_id, name, score\n",
    "FROM student\n",
    "ORDER BY score ASC\n",
    "LIMIT 3\n",
    "''')\n",
    "bottom_3 = cursor.fetchall()\n",
    "print(\"Top 3 sinh viên thấp nhất:\")\n",
    "for row in bottom_3:\n",
    "    print(row)"
   ]
  },
  {
   "cell_type": "markdown",
   "metadata": {},
   "source": [
    "### **5.  Hãy bổ sung thêm một trường graduation_date có kiểu dữ liệu là DATETIME vào bảng student để xác định thời gian tốt nghiệp của từng bạn, trong đó thời gian tốt nghiệp được xác định bởi thời gian hiện tại cộng với số hạng tương ứng của bạn đó tính theo điểm số**"
   ]
  },
  {
   "cell_type": "code",
   "execution_count": null,
   "metadata": {},
   "outputs": [],
   "source": [
    "# Bước 1: Thêm cột graduation_date vào bảng student \n",
    "cursor.execute('''\n",
    "ALTER TABLE student ADD COLUMN graduation_date TEXT\n",
    "''')\n",
    "conn.commit()\n",
    "\n",
    "# Bước 2: Tạo bảng tạm chứa thông tin xếp hạng\n",
    "cursor.execute('''\n",
    "CREATE TEMPORARY TABLE temp_rank AS\n",
    "SELECT student_id,\n",
    "       RANK() OVER (ORDER BY score DESC) AS rank\n",
    "FROM student\n",
    "''')\n",
    "conn.commit()\n",
    "\n",
    "# Bước 3: Cập nhật graduation_date dựa trên bảng tạm\n",
    "cursor.execute('''\n",
    "UPDATE student\n",
    "SET graduation_date = DATE('now', '+' || (SELECT rank FROM temp_rank WHERE temp_rank.student_id = student.student_id) || ' days')\n",
    "''')\n",
    "conn.commit()\n",
    "\n"
   ]
  },
  {
   "cell_type": "code",
   "execution_count": 27,
   "metadata": {},
   "outputs": [
    {
     "name": "stdout",
     "output_type": "stream",
     "text": [
      "Bảng student với graduation_date:\n",
      "(1, 'Nguyen Minh Hoang', 'May Tinh', 12, 6.7, '2025-03-20')\n",
      "(2, 'Tran Thi Lan', 'Kinh Te', 34, 9.2, '2025-03-15')\n",
      "(3, 'Pham Van Nam', 'Toan Tin', 26, 7.9, '2025-03-17')\n",
      "(7, 'Bui Tien Dung', 'Kinh Te', 34, 9.2, '2025-03-15')\n",
      "(9, 'Duong Huu Phuc', 'Kinh Te', 26, 7.2, '2025-03-18')\n",
      "(10, 'Cao Thi Hanh', 'May Tinh', 26, 7.0, '2025-03-19')\n"
     ]
    },
    {
     "data": {
      "text/plain": [
       "<function Connection.close()>"
      ]
     },
     "execution_count": 27,
     "metadata": {},
     "output_type": "execute_result"
    }
   ],
   "source": [
    "# Bước 4: Hiển thị kết quả\n",
    "cursor.execute('SELECT * FROM student')\n",
    "updated_students = cursor.fetchall()\n",
    "print(\"Bảng student với graduation_date:\")\n",
    "for row in updated_students:\n",
    "    print(row)\n",
    "\n",
    "conn.close"
   ]
  }
 ],
 "metadata": {
  "kernelspec": {
   "display_name": "base",
   "language": "python",
   "name": "python3"
  },
  "language_info": {
   "codemirror_mode": {
    "name": "ipython",
    "version": 3
   },
   "file_extension": ".py",
   "mimetype": "text/x-python",
   "name": "python",
   "nbconvert_exporter": "python",
   "pygments_lexer": "ipython3",
   "version": "3.12.7"
  }
 },
 "nbformat": 4,
 "nbformat_minor": 2
}

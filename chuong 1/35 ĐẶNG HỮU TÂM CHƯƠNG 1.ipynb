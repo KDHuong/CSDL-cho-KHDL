{
 "cells": [
  {
   "cell_type": "code",
   "execution_count": 2,
   "id": "1879e77b",
   "metadata": {},
   "outputs": [],
   "source": [
    "import sqlite3\n",
    "\n",
    "# Kết nối đến cơ sở dữ liệu SQLite\n",
    "conn = sqlite3.connect('database.db')\n",
    "cursor = conn.cursor()"
   ]
  },
  {
   "cell_type": "code",
   "execution_count": 4,
   "id": "f410f3f3",
   "metadata": {},
   "outputs": [],
   "source": [
    "\n",
    "\n",
    "# Tạo bảng NhanVien nếu chưa tồn tại\n",
    "cursor.execute(\"\"\"\n",
    "CREATE TABLE IF NOT EXISTS NhanVien (\n",
    "    MaNhanVien INTEGER PRIMARY KEY,\n",
    "    HoTen TEXT,\n",
    "    NgaySinh DATE,\n",
    "    ChucVu TEXT\n",
    ")\n",
    "\"\"\")\n",
    "conn.commit()"
   ]
  },
  {
   "cell_type": "code",
   "execution_count": 5,
   "id": "2e1ccab4",
   "metadata": {},
   "outputs": [],
   "source": [
    "# Chèn các bản ghi vào bảng NhanVien\n",
    "cursor.execute(\"\"\"\n",
    "INSERT INTO NhanVien (MaNhanVien, HoTen, NgaySinh, ChucVu)\n",
    "VALUES\n",
    "    (1, 'Nguyen Van A', '1992-01-01', 'Ke Toan'),\n",
    "    (2, 'Tran Thi B', '1997-01-01', 'Nhan Su'),\n",
    "    (3, 'Le Van C', '1994-01-01', 'IT')\n",
    "ON CONFLICT(MaNhanVien) DO NOTHING\n",
    "\"\"\")\n",
    "conn.commit()"
   ]
  },
  {
   "cell_type": "code",
   "execution_count": 6,
   "id": "cb31998f",
   "metadata": {},
   "outputs": [],
   "source": [
    "# Cập nhật thông tin PhongBan của nhân viên \"Le Van C\" sang \"Marketing\"\n",
    "cursor.execute(\"\"\"\n",
    "    UPDATE NhanVien\n",
    "    SET ChucVu = 'Marketing'\n",
    "    WHERE MaNhanVien = 3;\n",
    "\"\"\")\n",
    "conn.commit()\n",
    "\n",
    "# Đóng kết nối\n",
    "conn.close()"
   ]
  },
  {
   "cell_type": "code",
   "execution_count": null,
   "id": "a73a0b3d",
   "metadata": {},
   "outputs": [],
   "source": []
  }
 ],
 "metadata": {
  "kernelspec": {
   "display_name": "Python 3 (ipykernel)",
   "language": "python",
   "name": "python3"
  },
  "language_info": {
   "codemirror_mode": {
    "name": "ipython",
    "version": 3
   },
   "file_extension": ".py",
   "mimetype": "text/x-python",
   "name": "python",
   "nbconvert_exporter": "python",
   "pygments_lexer": "ipython3",
   "version": "3.11.5"
  }
 },
 "nbformat": 4,
 "nbformat_minor": 5
}

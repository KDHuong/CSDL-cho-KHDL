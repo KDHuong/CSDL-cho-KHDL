{
 "cells": [
  {
   "cell_type": "code",
   "execution_count": 1,
   "id": "349226dd",
   "metadata": {},
   "outputs": [
    {
     "name": "stdout",
     "output_type": "stream",
     "text": [
      "Dữ liệu đã được chèn thành công vào bảng NhanVien.\n"
     ]
    }
   ],
   "source": [
    "import sqlite3\n",
    "\n",
    "# Kết nối đến cơ sở dữ liệu SQLite (hoặc tạo mới nếu chưa có)\n",
    "conn = sqlite3.connect(\"nhanvien.db\")\n",
    "cursor = conn.cursor()\n",
    "\n",
    "# Tạo bảng NhanVien\n",
    "cursor.execute(\"\"\"\n",
    "CREATE TABLE IF NOT EXISTS NhanVien (\n",
    "    MaNV INTEGER PRIMARY KEY,\n",
    "    HoTen TEXT,\n",
    "    Tuoi INTEGER,\n",
    "    PhongBan TEXT\n",
    ");\n",
    "\"\"\")\n",
    "\n",
    "# Dữ liệu cần chèn vào bảng\n",
    "data = [\n",
    "    (1, 'Nguyen Van A', 30, 'Ke Toan'),\n",
    "    (2, 'Tran Thi B', 25, 'Nhan Su'),\n",
    "    (3, 'Le Van C', 28, 'IT'),\n",
    "    (4, 'Pham Thi D', 32, 'Ke Toan'),\n",
    "    (5, 'Vu Van E', 26, 'IT'),\n",
    "    (6, 'Nguyen Thi F', 29, 'Marketing'),\n",
    "    (7, 'Le Thi G', 27, 'Nhan Su'),\n",
    "    (8, 'Hoang Van H', 35, 'Ke Toan'),\n",
    "    (9, 'Pham Van I', 33, 'Marketing'),\n",
    "    (10, 'Tran Van J', 24, 'IT'),\n",
    "    (11, 'Dang Thi K', 31, 'Nhan Su'),\n",
    "    (12, 'Nguyen Van L', 28, 'Ke Toan'),\n",
    "    (13, 'Tran Thi M', 26, 'Marketing'),\n",
    "    (14, 'Pham Van N', 30, 'Nhan Su'),\n",
    "    (15, 'Hoang Thi O', 27, 'IT')\n",
    "]\n",
    "\n",
    "# Chèn dữ liệu vào bảng\n",
    "cursor.executemany(\"INSERT INTO NhanVien (MaNV, HoTen, Tuoi, PhongBan) VALUES (?, ?, ?, ?)\", data)\n",
    "\n",
    "# Lưu thay đổi và đóng kết nối\n",
    "conn.commit()\n",
    "conn.close()\n",
    "\n",
    "print(\"Dữ liệu đã được chèn thành công vào bảng NhanVien.\")\n"
   ]
  },
  {
   "cell_type": "code",
   "execution_count": 4,
   "id": "26c5ea62",
   "metadata": {},
   "outputs": [
    {
     "name": "stdout",
     "output_type": "stream",
     "text": [
      "3. Danh sách toàn bộ nhân viên:\n",
      "(1, 'Nguyen Van A', 30, 'Ke Toan')\n",
      "(2, 'Tran Thi B', 25, 'Nhan Su')\n",
      "(3, 'Le Van C', 28, 'IT')\n",
      "(4, 'Pham Thi D', 32, 'Ke Toan')\n",
      "(5, 'Vu Van E', 26, 'IT')\n",
      "(6, 'Nguyen Thi F', 29, 'Marketing')\n",
      "(7, 'Le Thi G', 27, 'Nhan Su')\n",
      "(8, 'Hoang Van H', 35, 'Ke Toan')\n",
      "(9, 'Pham Van I', 33, 'Marketing')\n",
      "(10, 'Tran Van J', 24, 'IT')\n",
      "(11, 'Dang Thi K', 31, 'Nhan Su')\n",
      "(12, 'Nguyen Van L', 28, 'Ke Toan')\n",
      "(13, 'Tran Thi M', 26, 'Marketing')\n",
      "(14, 'Pham Van N', 30, 'Nhan Su')\n",
      "(15, 'Hoang Thi O', 27, 'IT')\n"
     ]
    }
   ],
   "source": [
    "# 3. Lấy toàn bộ thông tin của nhân viên trong bảng NhanVien\n",
    "# Kết nối đến cơ sở dữ liệu\n",
    "conn = sqlite3.connect(\"nhanvien.db\")\n",
    "cursor = conn.cursor()\n",
    "\n",
    "print(\"3. Danh sách toàn bộ nhân viên:\")\n",
    "cursor.execute(\"SELECT * FROM NhanVien\")\n",
    "for row in cursor.fetchall():\n",
    "    print(row)"
   ]
  },
  {
   "cell_type": "code",
   "execution_count": 5,
   "id": "d0a3c86d",
   "metadata": {},
   "outputs": [
    {
     "name": "stdout",
     "output_type": "stream",
     "text": [
      "\n",
      "4. Danh sách nhân viên phòng IT:\n",
      "('Le Van C', 28)\n",
      "('Vu Van E', 26)\n",
      "('Tran Van J', 24)\n",
      "('Hoang Thi O', 27)\n"
     ]
    }
   ],
   "source": [
    "# 4. Truy vấn HoTen và Tuoi của các nhân viên trong phòng IT\n",
    "print(\"\\n4. Danh sách nhân viên phòng IT:\")\n",
    "cursor.execute(\"SELECT HoTen, Tuoi FROM NhanVien WHERE PhongBan = 'IT'\")\n",
    "for row in cursor.fetchall():\n",
    "    print(row)\n"
   ]
  },
  {
   "cell_type": "code",
   "execution_count": 6,
   "id": "a80eb607",
   "metadata": {},
   "outputs": [
    {
     "name": "stdout",
     "output_type": "stream",
     "text": [
      "\n",
      "5. Nhân viên có tuổi > 25:\n",
      "(1, 'Nguyen Van A', 30, 'Ke Toan')\n",
      "(3, 'Le Van C', 28, 'IT')\n",
      "(4, 'Pham Thi D', 32, 'Ke Toan')\n",
      "(5, 'Vu Van E', 26, 'IT')\n",
      "(6, 'Nguyen Thi F', 29, 'Marketing')\n",
      "(7, 'Le Thi G', 27, 'Nhan Su')\n",
      "(8, 'Hoang Van H', 35, 'Ke Toan')\n",
      "(9, 'Pham Van I', 33, 'Marketing')\n",
      "(11, 'Dang Thi K', 31, 'Nhan Su')\n",
      "(12, 'Nguyen Van L', 28, 'Ke Toan')\n",
      "(13, 'Tran Thi M', 26, 'Marketing')\n",
      "(14, 'Pham Van N', 30, 'Nhan Su')\n",
      "(15, 'Hoang Thi O', 27, 'IT')\n"
     ]
    }
   ],
   "source": [
    "# 5. Tìm nhân viên có độ tuổi lớn hơn 25\n",
    "print(\"\\n5. Nhân viên có tuổi > 25:\")\n",
    "cursor.execute(\"SELECT * FROM NhanVien WHERE Tuoi > 25\")\n",
    "for row in cursor.fetchall():\n",
    "    print(row)"
   ]
  },
  {
   "cell_type": "code",
   "execution_count": 7,
   "id": "6d2d5e48",
   "metadata": {},
   "outputs": [
    {
     "name": "stdout",
     "output_type": "stream",
     "text": [
      "\n",
      "6. Nhân viên lớn tuổi nhất trong mỗi phòng ban:\n",
      "('IT', 'Le Van C', 28)\n",
      "('Ke Toan', 'Hoang Van H', 35)\n",
      "('Marketing', 'Pham Van I', 33)\n",
      "('Nhan Su', 'Dang Thi K', 31)\n"
     ]
    }
   ],
   "source": [
    "# 6. Cho biết nhân viên lớn tuổi nhất của các PhongBan\n",
    "print(\"\\n6. Nhân viên lớn tuổi nhất trong mỗi phòng ban:\")\n",
    "cursor.execute(\"\"\"\n",
    "    SELECT PhongBan, HoTen, Tuoi \n",
    "    FROM NhanVien \n",
    "    WHERE (PhongBan, Tuoi) IN (\n",
    "        SELECT PhongBan, MAX(Tuoi) \n",
    "        FROM NhanVien \n",
    "        GROUP BY PhongBan\n",
    "    )\n",
    "\"\"\")\n",
    "for row in cursor.fetchall():\n",
    "    print(row)\n"
   ]
  },
  {
   "cell_type": "code",
   "execution_count": 8,
   "id": "47a39b8a",
   "metadata": {},
   "outputs": [
    {
     "name": "stdout",
     "output_type": "stream",
     "text": [
      "\n",
      "7. Cập nhật phòng ban của Le Van C:\n",
      "Đã cập nhật.\n",
      "(3, 'Le Van C', 28, 'Marketing')\n"
     ]
    }
   ],
   "source": [
    "# 7. Chuyển đổi thông tin PhongBan của nhân viên “Le Van C” sang “Marketing”\n",
    "print(\"\\n7. Cập nhật phòng ban của Le Van C:\")\n",
    "cursor.execute(\"UPDATE NhanVien SET PhongBan = 'Marketing' WHERE HoTen = 'Le Van C'\")\n",
    "conn.commit()\n",
    "print(\"Đã cập nhật.\")\n",
    "\n",
    "# Kiểm tra lại thông tin\n",
    "cursor.execute(\"SELECT * FROM NhanVien WHERE HoTen = 'Le Van C'\")\n",
    "print(cursor.fetchone())"
   ]
  },
  {
   "cell_type": "code",
   "execution_count": 9,
   "id": "7164f637",
   "metadata": {},
   "outputs": [
    {
     "name": "stdout",
     "output_type": "stream",
     "text": [
      "\n",
      "8. Xóa nhân viên có MaNV = 2\n",
      "Số nhân viên trong mỗi phòng ban sau khi xóa:\n",
      "('IT', 3)\n",
      "('Ke Toan', 4)\n",
      "('Marketing', 4)\n",
      "('Nhan Su', 3)\n"
     ]
    }
   ],
   "source": [
    "# 8. Xóa nhân viên có MaNV = 2 và đếm số nhân viên trong mỗi phòng ban\n",
    "print(\"\\n8. Xóa nhân viên có MaNV = 2\")\n",
    "cursor.execute(\"DELETE FROM NhanVien WHERE MaNV = 2\")\n",
    "conn.commit()\n",
    "\n",
    "print(\"Số nhân viên trong mỗi phòng ban sau khi xóa:\")\n",
    "cursor.execute(\"SELECT PhongBan, COUNT(*) FROM NhanVien GROUP BY PhongBan\")\n",
    "for row in cursor.fetchall():\n",
    "    print(row)\n",
    "\n",
    "# Đóng kết nối\n",
    "conn.close()"
   ]
  }
 ],
 "metadata": {
  "kernelspec": {
   "display_name": "Python 3",
   "language": "python",
   "name": "python3"
  },
  "language_info": {
   "codemirror_mode": {
    "name": "ipython",
    "version": 3
   },
   "file_extension": ".py",
   "mimetype": "text/x-python",
   "name": "python",
   "nbconvert_exporter": "python",
   "pygments_lexer": "ipython3",
   "version": "3.6.8"
  }
 },
 "nbformat": 4,
 "nbformat_minor": 5
}

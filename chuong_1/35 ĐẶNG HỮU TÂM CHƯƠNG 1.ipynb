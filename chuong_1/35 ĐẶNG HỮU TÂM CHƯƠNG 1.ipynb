{
 "cells": [
  {
   "cell_type": "code",
   "execution_count": 1,
   "id": "884f1a88",
   "metadata": {},
   "outputs": [],
   "source": [
    "import sqlite3\n",
    "\n",
    "# Kết nối đến SQLite (tạo database nếu chưa có)\n",
    "conn = sqlite3.connect(\"nhanvien.db\")\n",
    "cursor = conn.cursor()"
   ]
  },
  {
   "cell_type": "code",
   "execution_count": 2,
   "id": "ddb03a1b",
   "metadata": {},
   "outputs": [
    {
     "data": {
      "text/plain": [
       "<sqlite3.Cursor at 0x2166e6906c0>"
      ]
     },
     "execution_count": 2,
     "metadata": {},
     "output_type": "execute_result"
    }
   ],
   "source": [
    "# 1. Tạo bảng NhanVien\n",
    "cursor.execute(\"\"\"\n",
    "CREATE TABLE IF NOT EXISTS NhanVien (\n",
    "    MaNV INTEGER PRIMARY KEY AUTOINCREMENT,\n",
    "    HoTen TEXT,\n",
    "    Tuoi INTEGER,\n",
    "    PhongBan TEXT\n",
    ")\n",
    "\"\"\")"
   ]
  },
  {
   "cell_type": "code",
   "execution_count": 7,
   "id": "978136d1",
   "metadata": {},
   "outputs": [],
   "source": [
    "nhan_vien_data = [\n",
    "    ('Nguyen Van A', 30, 'Ke Toan'),\n",
    "    ('Tran Thi B', 25, 'Nhan Su'),\n",
    "    ('Le Van C', 28, 'IT'),\n",
    "    ('Pham Thi D', 32, 'Ke Toan'),\n",
    "    ('Vu Van E', 26, 'IT'),\n",
    "    ('Nguyen Thi F', 29, 'Marketing'),\n",
    "    ('Le Thi G', 27, 'Nhan Su'),\n",
    "    ('Hoang Van H', 35, 'Ke Toan'),\n",
    "    ('Pham Van I', 33, 'Marketing'),\n",
    "    ('Tran Van J', 24, 'IT'),\n",
    "    ('Dang Thi K', 31, 'Nhan Su'),\n",
    "    ('Nguyen Van L', 28, 'Ke Toan'),\n",
    "    ('Tran Thi M', 26, 'Marketing'),\n",
    "    ('Pham Van N', 30, 'Nhan Su'),\n",
    "    ('Hoang Thi O', 27, 'IT')\n",
    "]\n",
    "\n",
    "# Sửa câu lệnh INSERT để không chèn cột MaNV (SQLite tự động tăng giá trị)\n",
    "cursor.executemany(\"INSERT INTO NhanVien (HoTen, Tuoi, PhongBan) VALUES (?, ?, ?)\", nhan_vien_data)\n",
    "conn.commit()\n"
   ]
  },
  {
   "cell_type": "code",
   "execution_count": 8,
   "id": "e7e3695f",
   "metadata": {},
   "outputs": [
    {
     "name": "stdout",
     "output_type": "stream",
     "text": [
      "Danh sách nhân viên: [(1, 'Nguyen Van A', 30, 'Ke Toan'), (2, 'Tran Thi B', 25, 'Nhan Su'), (3, 'Le Van C', 28, 'IT'), (4, 'Pham Thi D', 32, 'Ke Toan'), (5, 'Vu Van E', 26, 'IT'), (6, 'Nguyen Thi F', 29, 'Marketing'), (7, 'Le Thi G', 27, 'Nhan Su'), (8, 'Hoang Van H', 35, 'Ke Toan'), (9, 'Pham Van I', 33, 'Marketing'), (10, 'Tran Van J', 24, 'IT'), (11, 'Dang Thi K', 31, 'Nhan Su'), (12, 'Nguyen Van L', 28, 'Ke Toan'), (13, 'Tran Thi M', 26, 'Marketing'), (14, 'Pham Van N', 30, 'Nhan Su'), (15, 'Hoang Thi O', 27, 'IT'), (16, 'Nguyen Van A', 30, 'Ke Toan'), (17, 'Tran Thi B', 25, 'Nhan Su'), (18, 'Le Van C', 28, 'IT'), (19, 'Pham Thi D', 32, 'Ke Toan'), (20, 'Vu Van E', 26, 'IT'), (21, 'Nguyen Thi F', 29, 'Marketing'), (22, 'Le Thi G', 27, 'Nhan Su'), (23, 'Hoang Van H', 35, 'Ke Toan'), (24, 'Pham Van I', 33, 'Marketing'), (25, 'Tran Van J', 24, 'IT'), (26, 'Dang Thi K', 31, 'Nhan Su'), (27, 'Nguyen Van L', 28, 'Ke Toan'), (28, 'Tran Thi M', 26, 'Marketing'), (29, 'Pham Van N', 30, 'Nhan Su'), (30, 'Hoang Thi O', 27, 'IT'), (31, 'Nguyen Van A', 30, 'Ke Toan'), (32, 'Tran Thi B', 25, 'Nhan Su'), (33, 'Le Van C', 28, 'IT'), (34, 'Pham Thi D', 32, 'Ke Toan'), (35, 'Vu Van E', 26, 'IT'), (36, 'Nguyen Thi F', 29, 'Marketing'), (37, 'Le Thi G', 27, 'Nhan Su'), (38, 'Hoang Van H', 35, 'Ke Toan'), (39, 'Pham Van I', 33, 'Marketing'), (40, 'Tran Van J', 24, 'IT'), (41, 'Dang Thi K', 31, 'Nhan Su'), (42, 'Nguyen Van L', 28, 'Ke Toan'), (43, 'Tran Thi M', 26, 'Marketing'), (44, 'Pham Van N', 30, 'Nhan Su'), (45, 'Hoang Thi O', 27, 'IT')]\n"
     ]
    }
   ],
   "source": [
    "# 3. Lấy toàn bộ thông tin nhân viên\n",
    "cursor.execute(\"SELECT * FROM NhanVien\")\n",
    "print(\"Danh sách nhân viên:\", cursor.fetchall())"
   ]
  },
  {
   "cell_type": "code",
   "execution_count": 9,
   "id": "44c2ac95",
   "metadata": {},
   "outputs": [
    {
     "name": "stdout",
     "output_type": "stream",
     "text": [
      "Nhân viên phòng IT: [('Le Van C', 28), ('Vu Van E', 26), ('Tran Van J', 24), ('Hoang Thi O', 27), ('Le Van C', 28), ('Vu Van E', 26), ('Tran Van J', 24), ('Hoang Thi O', 27), ('Le Van C', 28), ('Vu Van E', 26), ('Tran Van J', 24), ('Hoang Thi O', 27)]\n"
     ]
    }
   ],
   "source": [
    "# 4. Truy vấn HoTen và Tuoi của nhân viên phòng IT\n",
    "cursor.execute(\"SELECT HoTen, Tuoi FROM NhanVien WHERE PhongBan = 'IT'\")\n",
    "print(\"Nhân viên phòng IT:\", cursor.fetchall())"
   ]
  },
  {
   "cell_type": "code",
   "execution_count": 10,
   "id": "942bd9b7",
   "metadata": {},
   "outputs": [
    {
     "name": "stdout",
     "output_type": "stream",
     "text": [
      "Nhân viên trên 25 tuổi: [(1, 'Nguyen Van A', 30, 'Ke Toan'), (3, 'Le Van C', 28, 'IT'), (4, 'Pham Thi D', 32, 'Ke Toan'), (5, 'Vu Van E', 26, 'IT'), (6, 'Nguyen Thi F', 29, 'Marketing'), (7, 'Le Thi G', 27, 'Nhan Su'), (8, 'Hoang Van H', 35, 'Ke Toan'), (9, 'Pham Van I', 33, 'Marketing'), (11, 'Dang Thi K', 31, 'Nhan Su'), (12, 'Nguyen Van L', 28, 'Ke Toan'), (13, 'Tran Thi M', 26, 'Marketing'), (14, 'Pham Van N', 30, 'Nhan Su'), (15, 'Hoang Thi O', 27, 'IT'), (16, 'Nguyen Van A', 30, 'Ke Toan'), (18, 'Le Van C', 28, 'IT'), (19, 'Pham Thi D', 32, 'Ke Toan'), (20, 'Vu Van E', 26, 'IT'), (21, 'Nguyen Thi F', 29, 'Marketing'), (22, 'Le Thi G', 27, 'Nhan Su'), (23, 'Hoang Van H', 35, 'Ke Toan'), (24, 'Pham Van I', 33, 'Marketing'), (26, 'Dang Thi K', 31, 'Nhan Su'), (27, 'Nguyen Van L', 28, 'Ke Toan'), (28, 'Tran Thi M', 26, 'Marketing'), (29, 'Pham Van N', 30, 'Nhan Su'), (30, 'Hoang Thi O', 27, 'IT'), (31, 'Nguyen Van A', 30, 'Ke Toan'), (33, 'Le Van C', 28, 'IT'), (34, 'Pham Thi D', 32, 'Ke Toan'), (35, 'Vu Van E', 26, 'IT'), (36, 'Nguyen Thi F', 29, 'Marketing'), (37, 'Le Thi G', 27, 'Nhan Su'), (38, 'Hoang Van H', 35, 'Ke Toan'), (39, 'Pham Van I', 33, 'Marketing'), (41, 'Dang Thi K', 31, 'Nhan Su'), (42, 'Nguyen Van L', 28, 'Ke Toan'), (43, 'Tran Thi M', 26, 'Marketing'), (44, 'Pham Van N', 30, 'Nhan Su'), (45, 'Hoang Thi O', 27, 'IT')]\n"
     ]
    }
   ],
   "source": [
    "# 5. Tìm nhân viên có độ tuổi lớn hơn 25\n",
    "cursor.execute(\"SELECT * FROM NhanVien WHERE Tuoi > 25\")\n",
    "print(\"Nhân viên trên 25 tuổi:\", cursor.fetchall())"
   ]
  },
  {
   "cell_type": "code",
   "execution_count": 11,
   "id": "a5fc71dc",
   "metadata": {},
   "outputs": [
    {
     "name": "stdout",
     "output_type": "stream",
     "text": [
      "Nhân viên lớn tuổi nhất mỗi phòng ban: [('IT', 'Le Van C', 28), ('Ke Toan', 'Hoang Van H', 35), ('Marketing', 'Pham Van I', 33), ('Nhan Su', 'Dang Thi K', 31), ('IT', 'Le Van C', 28), ('Ke Toan', 'Hoang Van H', 35), ('Marketing', 'Pham Van I', 33), ('Nhan Su', 'Dang Thi K', 31), ('IT', 'Le Van C', 28), ('Ke Toan', 'Hoang Van H', 35), ('Marketing', 'Pham Van I', 33), ('Nhan Su', 'Dang Thi K', 31)]\n"
     ]
    }
   ],
   "source": [
    "# 6. Nhân viên lớn tuổi nhất của mỗi phòng ban\n",
    "cursor.execute(\"\"\"\n",
    "    SELECT n1.PhongBan, n1.HoTen, n1.Tuoi\n",
    "    FROM NhanVien n1\n",
    "    JOIN (\n",
    "        SELECT PhongBan, MAX(Tuoi) AS MaxTuoi FROM NhanVien GROUP BY PhongBan\n",
    "    ) n2\n",
    "    ON n1.PhongBan = n2.PhongBan AND n1.Tuoi = n2.MaxTuoi\n",
    "\"\"\")\n",
    "print(\"Nhân viên lớn tuổi nhất mỗi phòng ban:\", cursor.fetchall())"
   ]
  },
  {
   "cell_type": "code",
   "execution_count": 12,
   "id": "58924835",
   "metadata": {},
   "outputs": [
    {
     "name": "stdout",
     "output_type": "stream",
     "text": [
      "Cập nhật phòng ban cho Le Van C thành công!\n"
     ]
    }
   ],
   "source": [
    "# 7. Cập nhật phòng ban của \"Le Van C\" sang \"Marketing\"\n",
    "cursor.execute(\"UPDATE NhanVien SET PhongBan = 'Marketing' WHERE MaNV = 3\")\n",
    "conn.commit()\n",
    "print(\"Cập nhật phòng ban cho Le Van C thành công!\")"
   ]
  },
  {
   "cell_type": "code",
   "execution_count": 13,
   "id": "214a2ef8",
   "metadata": {},
   "outputs": [
    {
     "name": "stdout",
     "output_type": "stream",
     "text": [
      "Đã xóa nhân viên có MaNV = 2\n",
      "Số nhân viên mỗi phòng ban: [('IT', 11), ('Ke Toan', 12), ('Marketing', 10), ('Nhan Su', 11)]\n"
     ]
    }
   ],
   "source": [
    "# 8. Xóa nhân viên có MaNV = 2\n",
    "cursor.execute(\"DELETE FROM NhanVien WHERE MaNV = 2\")\n",
    "conn.commit()\n",
    "print(\"Đã xóa nhân viên có MaNV = 2\")\n",
    "\n",
    "# Đếm số lượng nhân viên theo từng phòng ban\n",
    "cursor.execute(\"SELECT PhongBan, COUNT(*) FROM NhanVien GROUP BY PhongBan\")\n",
    "print(\"Số nhân viên mỗi phòng ban:\", cursor.fetchall())"
   ]
  },
  {
   "cell_type": "code",
   "execution_count": 14,
   "id": "3cd56ebe",
   "metadata": {},
   "outputs": [],
   "source": [
    "# Đóng kết nối\n",
    "conn.close()"
   ]
  },
  {
   "cell_type": "code",
   "execution_count": null,
   "id": "f1988330",
   "metadata": {},
   "outputs": [],
   "source": []
  }
 ],
 "metadata": {
  "kernelspec": {
   "display_name": "Python 3 (ipykernel)",
   "language": "python",
   "name": "python3"
  },
  "language_info": {
   "codemirror_mode": {
    "name": "ipython",
    "version": 3
   },
   "file_extension": ".py",
   "mimetype": "text/x-python",
   "name": "python",
   "nbconvert_exporter": "python",
   "pygments_lexer": "ipython3",
   "version": "3.11.5"
  }
 },
 "nbformat": 4,
 "nbformat_minor": 5
}

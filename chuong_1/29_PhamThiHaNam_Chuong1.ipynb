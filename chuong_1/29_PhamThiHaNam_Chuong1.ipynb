{
 "cells": [
  {
   "cell_type": "markdown",
   "metadata": {},
   "source": [
    "# Thực hành chương I"
   ]
  },
  {
   "cell_type": "code",
   "execution_count": 25,
   "metadata": {},
   "outputs": [],
   "source": [
    "import sqlite3\n",
    "\n",
    "# Kết nối tới SQLite\n",
    "conn = sqlite3.connect(\"/Users/nguyenxuanty/Documents/Nam_3_ki_2/SQL_DS/nhanvien.db\")\n",
    "cursor = conn.cursor()\n",
    "\n"
   ]
  },
  {
   "cell_type": "markdown",
   "metadata": {},
   "source": [
    "**1️⃣  Tạo bảng có tên \"NhanVien\"**\n"
   ]
  },
  {
   "cell_type": "code",
   "execution_count": 26,
   "metadata": {},
   "outputs": [
    {
     "data": {
      "text/plain": [
       "<sqlite3.Cursor at 0x1069f2bc0>"
      ]
     },
     "execution_count": 26,
     "metadata": {},
     "output_type": "execute_result"
    }
   ],
   "source": [
    "cursor.execute(\"\"\"\n",
    "CREATE TABLE IF NOT EXISTS NhanVien (\n",
    "    MaNV INTEGER PRIMARY KEY,\n",
    "    HoTen TEXT,\n",
    "    Tuoi INTEGER,\n",
    "    PhongBan TEXT\n",
    ")\n",
    "\"\"\")"
   ]
  },
  {
   "cell_type": "markdown",
   "metadata": {},
   "source": [
    "**2️⃣  Chèn dữ liệu nhân viên**"
   ]
  },
  {
   "cell_type": "code",
   "execution_count": 27,
   "metadata": {},
   "outputs": [
    {
     "data": {
      "text/plain": [
       "<sqlite3.Cursor at 0x1069f2bc0>"
      ]
     },
     "execution_count": 27,
     "metadata": {},
     "output_type": "execute_result"
    }
   ],
   "source": [
    "\n",
    "nhan_vien_data = [\n",
    "    (1, 'Nguyen Van A', 30, 'Ke Toan'),\n",
    "    (2, 'Tran Thi B', 25, 'Nhan Su'),\n",
    "    (3, 'Le Van C', 28, 'IT'),\n",
    "    (4, 'Pham Thi D', 32, 'Ke Toan'),\n",
    "    (5, 'Vu Van E', 26, 'IT'),\n",
    "    (6, 'Nguyen Thi F', 29, 'Marketing'),\n",
    "    (7, 'Le Thi G', 27, 'Nhan Su'),\n",
    "    (8, 'Hoang Van H', 35, 'Ke Toan'),\n",
    "    (9, 'Pham Van I', 33, 'Marketing'),\n",
    "    (10, 'Tran Van J', 24, 'IT'),\n",
    "    (11, 'Dang Thi K', 31, 'Nhan Su'),\n",
    "    (12, 'Nguyen Van L', 28, 'Ke Toan'),\n",
    "    (13, 'Tran Thi M', 26, 'Marketing'),\n",
    "    (14, 'Pham Van N', 30, 'Nhan Su'),\n",
    "    (15, 'Hoang Thi O', 27, 'IT')\n",
    "]\n",
    "\n",
    "# Sử dụng INSERT OR IGNORE để tránh lỗi trùng lặp\n",
    "cursor.executemany(\"INSERT OR IGNORE INTO NhanVien VALUES (?, ?, ?, ?)\", nhan_vien_data)\n"
   ]
  },
  {
   "cell_type": "markdown",
   "metadata": {},
   "source": [
    "**3️⃣ Truy vấn toàn bộ nhân viên**"
   ]
  },
  {
   "cell_type": "code",
   "execution_count": 28,
   "metadata": {},
   "outputs": [
    {
     "name": "stdout",
     "output_type": "stream",
     "text": [
      "\n",
      " Danh sách nhân viên:\n",
      "(1, 'Nguyen Van A', 30, 'Ke Toan')\n",
      "(2, 'Tran Thi B', 25, 'Nhan Su')\n",
      "(3, 'Le Van C', 28, 'IT')\n",
      "(4, 'Pham Thi D', 32, 'Ke Toan')\n",
      "(5, 'Vu Van E', 26, 'IT')\n",
      "(6, 'Nguyen Thi F', 29, 'Marketing')\n",
      "(7, 'Le Thi G', 27, 'Nhan Su')\n",
      "(8, 'Hoang Van H', 35, 'Ke Toan')\n",
      "(9, 'Pham Van I', 33, 'Marketing')\n",
      "(10, 'Tran Van J', 24, 'IT')\n",
      "(11, 'Dang Thi K', 31, 'Nhan Su')\n",
      "(12, 'Nguyen Van L', 28, 'Ke Toan')\n",
      "(13, 'Tran Thi M', 26, 'Marketing')\n",
      "(14, 'Pham Van N', 30, 'Nhan Su')\n",
      "(15, 'Hoang Thi O', 27, 'IT')\n"
     ]
    }
   ],
   "source": [
    "\n",
    "cursor.execute(\"SELECT * FROM NhanVien\")\n",
    "rows = cursor.fetchall()\n",
    "print(\"\\n Danh sách nhân viên:\")\n",
    "for row in rows:\n",
    "    print(row)\n"
   ]
  },
  {
   "cell_type": "markdown",
   "metadata": {},
   "source": [
    "**4️⃣ Truy vấn HoTen, Tuoi của các nhân viên thuộc phòng IT**"
   ]
  },
  {
   "cell_type": "code",
   "execution_count": 29,
   "metadata": {},
   "outputs": [
    {
     "name": "stdout",
     "output_type": "stream",
     "text": [
      "\n",
      " Nhân viên phòng IT:\n",
      "('Le Van C', 28)\n",
      "('Vu Van E', 26)\n",
      "('Tran Van J', 24)\n",
      "('Hoang Thi O', 27)\n"
     ]
    }
   ],
   "source": [
    "\n",
    "cursor.execute(\"SELECT HoTen, Tuoi FROM NhanVien WHERE PhongBan = 'IT'\")\n",
    "rows = cursor.fetchall()\n",
    "print(\"\\n Nhân viên phòng IT:\")\n",
    "for row in rows:\n",
    "    print(row)\n"
   ]
  },
  {
   "cell_type": "markdown",
   "metadata": {},
   "source": [
    "**5️⃣ Truy vấn nhân viên có tuổi > 25**"
   ]
  },
  {
   "cell_type": "code",
   "execution_count": 30,
   "metadata": {},
   "outputs": [
    {
     "name": "stdout",
     "output_type": "stream",
     "text": [
      "\n",
      " Nhân viên có tuổi > 25:\n",
      "(1, 'Nguyen Van A', 30, 'Ke Toan')\n",
      "(3, 'Le Van C', 28, 'IT')\n",
      "(4, 'Pham Thi D', 32, 'Ke Toan')\n",
      "(5, 'Vu Van E', 26, 'IT')\n",
      "(6, 'Nguyen Thi F', 29, 'Marketing')\n",
      "(7, 'Le Thi G', 27, 'Nhan Su')\n",
      "(8, 'Hoang Van H', 35, 'Ke Toan')\n",
      "(9, 'Pham Van I', 33, 'Marketing')\n",
      "(11, 'Dang Thi K', 31, 'Nhan Su')\n",
      "(12, 'Nguyen Van L', 28, 'Ke Toan')\n",
      "(13, 'Tran Thi M', 26, 'Marketing')\n",
      "(14, 'Pham Van N', 30, 'Nhan Su')\n",
      "(15, 'Hoang Thi O', 27, 'IT')\n"
     ]
    }
   ],
   "source": [
    "\n",
    "cursor.execute(\"SELECT * FROM NhanVien WHERE Tuoi > 25\")\n",
    "rows = cursor.fetchall()\n",
    "print(\"\\n Nhân viên có tuổi > 25:\")\n",
    "for row in rows:\n",
    "    print(row)\n"
   ]
  },
  {
   "cell_type": "markdown",
   "metadata": {},
   "source": [
    "**6️⃣ Truy vấn nhân viên lớn tuổi nhất trong từng phòng ban**"
   ]
  },
  {
   "cell_type": "code",
   "execution_count": 31,
   "metadata": {},
   "outputs": [
    {
     "name": "stdout",
     "output_type": "stream",
     "text": [
      "\n",
      " Nhân viên lớn tuổi nhất trong từng phòng ban:\n",
      "('IT', 'Le Van C', 28)\n",
      "('Ke Toan', 'Hoang Van H', 35)\n",
      "('Marketing', 'Pham Van I', 33)\n",
      "('Nhan Su', 'Dang Thi K', 31)\n"
     ]
    }
   ],
   "source": [
    "\n",
    "\n",
    "cursor.execute(\"\"\"\n",
    "SELECT PhongBan, HoTen, Tuoi \n",
    "FROM NhanVien \n",
    "WHERE (PhongBan, Tuoi) IN (\n",
    "    SELECT PhongBan, MAX(Tuoi) FROM NhanVien GROUP BY PhongBan\n",
    ")\n",
    "\"\"\")\n",
    "rows = cursor.fetchall()\n",
    "print(\"\\n Nhân viên lớn tuổi nhất trong từng phòng ban:\")\n",
    "for row in rows:\n",
    "    print(row)\n"
   ]
  },
  {
   "cell_type": "markdown",
   "metadata": {},
   "source": [
    "**7️⃣ Cập nhật phòng ban cho nhân viên \"Le Van C\"**"
   ]
  },
  {
   "cell_type": "markdown",
   "metadata": {},
   "source": [
    "- Kiểm tra thông tin nhân viên 'Le Van C' có trùng lặp không. Nếu trùng lặp sẽ khiến cho toàn bộ nhân viên tên 'Le Van C' chuyển phòng ban từ 'IT' sang 'Marketing', nếu không trùng lặp thì thực thi lệnh như bình thường. \n",
    "- Đề xuất: Nên có MaNV(Khóa chính) để tránh sự trùng lặp."
   ]
  },
  {
   "cell_type": "code",
   "execution_count": 32,
   "metadata": {},
   "outputs": [
    {
     "name": "stdout",
     "output_type": "stream",
     "text": [
      "\n",
      " Những nhân viên có tên 'Le Van C' :\n",
      "(3, 'Le Van C', 28, 'IT')\n"
     ]
    }
   ],
   "source": [
    "cursor.execute(\"SELECT * FROM NhanVien WHERE HoTen = 'Le Van C'\")\n",
    "rows = cursor.fetchall()\n",
    "print(\"\\n Những nhân viên có tên 'Le Van C' :\")\n",
    "for row in rows:\n",
    "    print(row)\n"
   ]
  },
  {
   "cell_type": "markdown",
   "metadata": {},
   "source": [
    "- Không xuất hiện trùng lặp, tiếp tục thực thi lệnh."
   ]
  },
  {
   "cell_type": "code",
   "execution_count": 33,
   "metadata": {},
   "outputs": [
    {
     "name": "stdout",
     "output_type": "stream",
     "text": [
      "\n",
      " Thông tin nhân viên 'Le Van C' sau khi cập nhập:\n",
      "(3, 'Le Van C', 28, 'Marketing')\n"
     ]
    }
   ],
   "source": [
    "\n",
    "cursor.execute(\"UPDATE NhanVien SET PhongBan = 'Marketing' WHERE HoTen = 'Le Van C'\")\n",
    "cursor.execute(\"SELECT * FROM NhanVien WHERE HoTen = 'Le Van C'\")\n",
    "rows = cursor.fetchall()\n",
    "print(\"\\n Thông tin nhân viên 'Le Van C' sau khi cập nhập:\")\n",
    "for row in rows:\n",
    "    print(row)\n"
   ]
  },
  {
   "cell_type": "markdown",
   "metadata": {},
   "source": [
    "**8️⃣  Xóa nhân viên có \"MaNV = 2\" và đếm số lượng nhân viên trong mỗi phòng ban**"
   ]
  },
  {
   "cell_type": "code",
   "execution_count": 34,
   "metadata": {},
   "outputs": [
    {
     "name": "stdout",
     "output_type": "stream",
     "text": [
      "\n",
      " Đã xóa nhân viên có MaNV = 2.\n"
     ]
    }
   ],
   "source": [
    "# Xóa nhân viên có \"MaNV = 2\"\n",
    "\n",
    "cursor.execute(\"DELETE FROM NhanVien WHERE MaNV = 2\")\n",
    "conn.commit()\n",
    "print(\"\\n Đã xóa nhân viên có MaNV = 2.\")\n"
   ]
  },
  {
   "cell_type": "code",
   "execution_count": 35,
   "metadata": {},
   "outputs": [
    {
     "name": "stdout",
     "output_type": "stream",
     "text": [
      "\n",
      " Số lượng nhân viên trong mỗi phòng ban:\n",
      "Phòng ban: IT, Số nhân viên: 3\n",
      "Phòng ban: Ke Toan, Số nhân viên: 4\n",
      "Phòng ban: Marketing, Số nhân viên: 4\n",
      "Phòng ban: Nhan Su, Số nhân viên: 3\n"
     ]
    }
   ],
   "source": [
    "# Đếm số lượng nhân viên trong mỗi phòng ban\n",
    "\n",
    "cursor.execute(\"\"\"\n",
    "SELECT PhongBan, COUNT(*) \n",
    "FROM NhanVien \n",
    "GROUP BY PhongBan\n",
    "\"\"\")\n",
    "rows = cursor.fetchall()\n",
    "\n",
    "print(\"\\n Số lượng nhân viên trong mỗi phòng ban:\")\n",
    "for row in rows:\n",
    "    print(f\"Phòng ban: {row[0]}, Số nhân viên: {row[1]}\")\n"
   ]
  },
  {
   "cell_type": "code",
   "execution_count": 36,
   "metadata": {},
   "outputs": [],
   "source": [
    "# Lưu thay đổi và đóng kết nối\n",
    "conn.commit()\n",
    "conn.close()"
   ]
  },
  {
   "cell_type": "markdown",
   "metadata": {},
   "source": [
    "**9️⃣ Các bước kết nối và làm việc với SQLite trong Python**"
   ]
  },
  {
   "cell_type": "markdown",
   "metadata": {},
   "source": [
    "- `Bước 1`: Kết nối đến cơ sở dữ liệu\n",
    "    - Sử dụng sqlite3.connect(\"database_name.db\").\n",
    "- `Bước 2`: Tạo con trỏ (cursor)\n",
    "    - Sử dụng conn.cursor(): Con trỏ (cursor) là đối tượng giúp bạn thực thi các câu lệnh SQL. Mọi thao tác truy vấn, thay đổi dữ liệu đều phải thông qua con trỏ.\n",
    "- `Bước 3`: Thực thi câu lệnh SQL\n",
    "    - Tạo bảng (CREATE TABLE): CREATE TABLE IF NOT EXISTS\n",
    "    - Chèn dữ liệu (INSERT INTO)\n",
    "    - Truy vấn dữ liệu (SELECT)\n",
    "    - Cập nhật dữ liệu (UPDATE)\n",
    "    - Xóa dữ liệu (DELETE)\n",
    "    - Dùng cursor.execute() cho một câu lệnh SQL đơn.\n",
    "    - Dùng cursor.executemany() cho nhiều câu lệnh SQL.\n",
    "- `Bước 4`: Lưu thay đổi\n",
    "    - Gọi conn.commit() để lưu các thay đổi vào cơ sở dữ liệu.\n",
    "- `Bước 5`: Đóng kết nối\n",
    "    - Sử dụng conn.close() để đóng kết nối sau khi hoàn thành.\n"
   ]
  },
  {
   "cell_type": "markdown",
   "metadata": {},
   "source": [
    "- `Lưu ý`:\n",
    "    - fetchall(): Trả về tất cả các kết quả từ câu lệnh SELECT dưới dạng danh sách.\n",
    "    - execute(): Dùng cho các câu lệnh SQL như INSERT, UPDATE, DELETE, SELECT.\n",
    "    - commit(): Dùng để lưu lại các thay đổi khi thay đổi dữ liệu.\n"
   ]
  }
 ],
 "metadata": {
  "kernelspec": {
   "display_name": "base",
   "language": "python",
   "name": "python3"
  },
  "language_info": {
   "codemirror_mode": {
    "name": "ipython",
    "version": 3
   },
   "file_extension": ".py",
   "mimetype": "text/x-python",
   "name": "python",
   "nbconvert_exporter": "python",
   "pygments_lexer": "ipython3",
   "version": "3.12.7"
  }
 },
 "nbformat": 4,
 "nbformat_minor": 2
}

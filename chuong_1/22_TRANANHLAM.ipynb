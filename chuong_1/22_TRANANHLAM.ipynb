{
 "cells": [
  {
   "cell_type": "code",
   "execution_count": null,
   "metadata": {},
   "outputs": [],
   "source": [
    "import sqlite3\n",
    "\n",
    "# Bước 1: Kết nối đến cơ sở dữ liệu\n",
    "conn = sqlite3.connect('nhanvien.db')\n",
    "cursor = conn.cursor()\n"
   ]
  },
  {
   "cell_type": "code",
   "execution_count": null,
   "metadata": {},
   "outputs": [],
   "source": [
    "# 1. Lấy toàn bộ thông tin của nhân viên\n",
    "cursor.execute(\"SELECT * FROM NhanVien\")\n",
    "all_data = cursor.fetchall()\n",
    "print(\"Toàn bộ thông tin nhân viên:\")\n",
    "for row in all_data:\n",
    "    print(row)\n",
    "\n",
    "# 2. Truy vấn HoTen và Tuoi của các nhân viên trong phòng IT\n",
    "cursor.execute(\"SELECT HoTen, Tuoi FROM NhanVien WHERE PhongBan = 'IT'\")\n",
    "it_employees = cursor.fetchall()\n",
    "print(\"\\nNhân viên trong phòng IT:\")\n",
    "for row in it_employees:\n",
    "    print(row)\n",
    "\n",
    "# 3. Tìm nhân viên có độ tuổi lớn hơn 25\n",
    "cursor.execute(\"SELECT * FROM NhanVien WHERE Tuoi > 25\")\n",
    "older_than_25 = cursor.fetchall()\n",
    "print(\"\\nNhân viên có độ tuổi lớn hơn 25:\")\n",
    "for row in older_than_25:\n",
    "    print(row)\n",
    "\n",
    "# 4. Nhân viên lớn tuổi nhất của các phòng ban\n",
    "cursor.execute(\"SELECT PhongBan, MAX(Tuoi) AS TuoiMax FROM NhanVien GROUP BY PhongBan\")\n",
    "oldest_in_departments = cursor.fetchall()\n",
    "print(\"\\nNhân viên lớn tuổi nhất của các phòng ban:\")\n",
    "for row in oldest_in_departments:\n",
    "    print(row)\n",
    "\n",
    "# 5. Cập nhật phòng ban của nhân viên 'Le Van C' sang 'Marketing'\n",
    "cursor.execute(\"UPDATE NhanVien SET PhongBan = 'Marketing' WHERE HoTen = 'Le Van C'\")\n",
    "conn.commit()  # Lưu thay đổi\n",
    "\n",
    "# Kiểm tra lại\n",
    "cursor.execute(\"SELECT * FROM NhanVien WHERE HoTen = 'Le Van C'\")\n",
    "updated_employee = cursor.fetchall()\n",
    "print(\"\\nThông tin nhân viên 'Le Van C' sau khi cập nhật:\")\n",
    "for row in updated_employee:\n",
    "    print(row)\n",
    "\n",
    "# 6. Xóa nhân viên có MaNV = 2 và đếm số lượng nhân viên theo phòng ban\n",
    "cursor.execute(\"DELETE FROM NhanVien WHERE MaNV = 2\")\n",
    "conn.commit()  # Lưu thay đổi\n",
    "\n",
    "cursor.execute(\"SELECT PhongBan, COUNT(*) AS SoLuongNhanVien FROM NhanVien GROUP BY PhongBan\")\n",
    "employee_count = cursor.fetchall()\n",
    "print(\"\\nSố lượng nhân viên theo phòng ban:\")\n",
    "for row in employee_count:\n",
    "    print(row)\n",
    "\n",
    "# Đóng kết nối\n",
    "conn.close()\n"
   ]
  }
 ],
 "metadata": {
  "kernelspec": {
   "display_name": "Python 3",
   "language": "python",
   "name": "python3"
  },
  "language_info": {
   "name": "python",
   "version": "3.13.2"
  }
 },
 "nbformat": 4,
 "nbformat_minor": 2
}

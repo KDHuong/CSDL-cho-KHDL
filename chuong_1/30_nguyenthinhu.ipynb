{
 "cells": [
  {
   "cell_type": "markdown",
   "metadata": {},
   "source": [
    "Câu 1:Tạo bảng danh sách nhân viên"
   ]
  },
  {
   "cell_type": "code",
   "execution_count": 22,
   "metadata": {},
   "outputs": [],
   "source": [
    "import sqlite3\n",
    "#kết nối đến SQLite\n",
    "conn = sqlite3.connect(\"company.db\")#hết nối đến SQLite\n",
    "\n",
    "cursor.execute(\"\"\"\n",
    "    CREATE TABLE IF NOT EXISTS NhanVien (\n",
    "        MaNV INTEGER PRIMARY KEY,\n",
    "        HoTen TEXT,\n",
    "        Tuoi INTEGER,\n",
    "        PhongBan TEXT\n",
    "    )\n",
    "\"\"\")\n",
    "\n",
    "conn.commit()#lưu các thay đổi vào dữ liệu\n",
    "conn.close()#Đóng kết nối với cơ sở dữ liệu"
   ]
  },
  {
   "cell_type": "markdown",
   "metadata": {},
   "source": [
    "Câu 2: Chèn các bản ghi"
   ]
  },
  {
   "cell_type": "code",
   "execution_count": null,
   "metadata": {},
   "outputs": [],
   "source": [
    "data = [\n",
    "    (1, 'Nguyen Van A', 30, 'Ke Toan'),\n",
    "    (2, 'Tran Thi B', 25, 'Nhan Su'),\n",
    "    (3, 'Le Van C', 28, 'IT'),\n",
    "    (4, 'Pham Thi D', 32, 'Ke Toan'),\n",
    "    (5, 'Vu Van E', 26, 'IT'),\n",
    "    (6, 'Nguyen Thi F', 29, 'Marketing'),\n",
    "    (7, 'Le Thi G', 27, 'Nhan Su'),\n",
    "    (8, 'Hoang Van H', 35, 'Ke Toan'),\n",
    "    (9, 'Pham Van I', 33, 'Marketing'),\n",
    "    (10, 'Tran Van J', 24, 'IT'),\n",
    "    (11, 'Dang Thi K', 31, 'Nhan Su'),\n",
    "    (12, 'Nguyen Van L', 28, 'Ke Toan'),\n",
    "    (13, 'Tran Thi M', 26, 'Marketing'),\n",
    "    (14, 'Pham Van N', 30, 'Nhan Su'),\n",
    "    (15, 'Hoang Thi O', 27, 'IT'),\n",
    "]\n",
    "conn = sqlite3.connect(\"company.db\")\n",
    "cursor = conn.cursor()\n",
    "cursor.executemany(\"INSERT INTO NhanVien VALUES (?, ?, ?, ?)\", data)\n",
    "conn.commit()\n",
    "conn.close()"
   ]
  },
  {
   "cell_type": "code",
   "execution_count": null,
   "metadata": {},
   "outputs": [],
   "source": [
    "Câu 3:Lấy thông tin của nhân viên trong bảng"
   ]
  },
  {
   "cell_type": "code",
   "execution_count": 26,
   "metadata": {},
   "outputs": [
    {
     "name": "stdout",
     "output_type": "stream",
     "text": [
      "(1, 'Nguyen Van A', 30, 'Ke Toan')\n",
      "(3, 'Le Van C', 28, 'Marketing')\n",
      "(4, 'Pham Thi D', 32, 'Ke Toan')\n",
      "(5, 'Vu Van E', 26, 'IT')\n",
      "(6, 'Nguyen Thi F', 29, 'Marketing')\n",
      "(7, 'Le Thi G', 27, 'Nhan Su')\n",
      "(8, 'Hoang Van H', 35, 'Ke Toan')\n",
      "(9, 'Pham Van I', 33, 'Marketing')\n",
      "(10, 'Tran Van J', 24, 'IT')\n",
      "(11, 'Dang Thi K', 31, 'Nhan Su')\n",
      "(12, 'Nguyen Van L', 28, 'Ke Toan')\n",
      "(13, 'Tran Thi M', 26, 'Marketing')\n",
      "(14, 'Pham Van N', 30, 'Nhan Su')\n",
      "(15, 'Hoang Thi O', 27, 'IT')\n"
     ]
    }
   ],
   "source": [
    "conn = sqlite3.connect(\"company.db\")\n",
    "cursor = conn.cursor()\n",
    "cursor.execute(\"SELECT * FROM NhanVien\")\n",
    "rows = cursor.fetchall()\n",
    "\n",
    "for row in rows:\n",
    "    print(row)\n",
    "\n",
    "conn.close()"
   ]
  },
  {
   "cell_type": "markdown",
   "metadata": {},
   "source": [
    "Câu 4: Truy vấn HoTen,Tuoi của các nhân viên trong phòng IT"
   ]
  },
  {
   "cell_type": "code",
   "execution_count": 27,
   "metadata": {},
   "outputs": [
    {
     "name": "stdout",
     "output_type": "stream",
     "text": [
      "[('Vu Van E', 26), ('Tran Van J', 24), ('Hoang Thi O', 27)]\n"
     ]
    }
   ],
   "source": [
    "conn = sqlite3.connect(\"company.db\")\n",
    "cursor = conn.cursor()\n",
    "cursor.execute(\"SELECT HoTen, Tuoi FROM NhanVien WHERE PhongBan = 'IT'\")\n",
    "rows = cursor.fetchall()\n",
    "print(rows)\n"
   ]
  },
  {
   "cell_type": "markdown",
   "metadata": {},
   "source": [
    "Câu 5: Tìm nhân viên có độ tuổi lớn hơn 25"
   ]
  },
  {
   "cell_type": "code",
   "execution_count": 28,
   "metadata": {},
   "outputs": [
    {
     "name": "stdout",
     "output_type": "stream",
     "text": [
      "[(1, 'Nguyen Van A', 30, 'Ke Toan'), (3, 'Le Van C', 28, 'Marketing'), (4, 'Pham Thi D', 32, 'Ke Toan'), (5, 'Vu Van E', 26, 'IT'), (6, 'Nguyen Thi F', 29, 'Marketing'), (7, 'Le Thi G', 27, 'Nhan Su'), (8, 'Hoang Van H', 35, 'Ke Toan'), (9, 'Pham Van I', 33, 'Marketing'), (11, 'Dang Thi K', 31, 'Nhan Su'), (12, 'Nguyen Van L', 28, 'Ke Toan'), (13, 'Tran Thi M', 26, 'Marketing'), (14, 'Pham Van N', 30, 'Nhan Su'), (15, 'Hoang Thi O', 27, 'IT')]\n"
     ]
    }
   ],
   "source": [
    "cursor.execute(\"SELECT * FROM NhanVien WHERE Tuoi > 25\")\n",
    "\n",
    "rows = cursor.fetchall()  \n",
    "\n",
    "print(rows) \n",
    "\n"
   ]
  },
  {
   "cell_type": "markdown",
   "metadata": {},
   "source": [
    "Câu 6: Cho Biết nhân viên lớn tuổi nhất của các phòng ban"
   ]
  },
  {
   "cell_type": "code",
   "execution_count": 29,
   "metadata": {},
   "outputs": [
    {
     "name": "stdout",
     "output_type": "stream",
     "text": [
      "[('IT', 'Hoang Thi O', 27), ('Ke Toan', 'Hoang Van H', 35), ('Marketing', 'Pham Van I', 33), ('Nhan Su', 'Dang Thi K', 31)]\n"
     ]
    }
   ],
   "source": [
    "cursor.execute(\"SELECT PhongBan, HoTen, MAX(Tuoi) FROM NhanVien GROUP BY PhongBan\")\n",
    "rows = cursor.fetchall()\n",
    "print(rows)\n"
   ]
  },
  {
   "cell_type": "markdown",
   "metadata": {},
   "source": [
    "Câu 7: Chuyển đổi thông tin PhongBan của nhân viên “Le Van C” sang “Marketing”"
   ]
  },
  {
   "cell_type": "code",
   "execution_count": null,
   "metadata": {},
   "outputs": [],
   "source": [
    "cursor.execute(\"UPDATE NhanVien SET PhongBan = 'Marketing' WHERE HoTen = 'Le Van C'\")\n",
    "conn.commit()\n",
    "cursor.execute(\"SELECT * FROM NhanVien WHERE HoTen = 'Le Van C'\")\n",
    "#không có lỗi khi thực hiện"
   ]
  },
  {
   "cell_type": "markdown",
   "metadata": {},
   "source": [
    "Câu 8:Xóa nhân viên có “MaSV = 2” rồi cho biết mỗi phòng ban có bao nhiêu người."
   ]
  },
  {
   "cell_type": "code",
   "execution_count": 20,
   "metadata": {},
   "outputs": [
    {
     "name": "stdout",
     "output_type": "stream",
     "text": [
      "[('IT', 3), ('Ke Toan', 4), ('Marketing', 4), ('Nhan Su', 3)]\n"
     ]
    }
   ],
   "source": [
    "cursor.execute(\"DELETE FROM NhanVien WHERE MaNV = 2\")\n",
    "conn.commit()\n",
    "\n",
    "cursor.execute(\"SELECT PhongBan, COUNT(*) FROM NhanVien GROUP BY PhongBan\")\n",
    "rows = cursor.fetchall()\n",
    "print(rows)\n"
   ]
  }
 ],
 "metadata": {
  "kernelspec": {
   "display_name": "base",
   "language": "python",
   "name": "python3"
  },
  "language_info": {
   "codemirror_mode": {
    "name": "ipython",
    "version": 3
   },
   "file_extension": ".py",
   "mimetype": "text/x-python",
   "name": "python",
   "nbconvert_exporter": "python",
   "pygments_lexer": "ipython3",
   "version": "3.12.7"
  }
 },
 "nbformat": 4,
 "nbformat_minor": 2
}

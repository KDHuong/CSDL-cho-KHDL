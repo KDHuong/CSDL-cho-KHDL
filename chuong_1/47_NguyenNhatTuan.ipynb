{
 "cells": [
  {
   "cell_type": "code",
   "execution_count": 30,
   "metadata": {},
   "outputs": [
    {
     "data": {
      "text/plain": [
       "<sqlite3.Cursor at 0x1e29c3da490>"
      ]
     },
     "execution_count": 30,
     "metadata": {},
     "output_type": "execute_result"
    }
   ],
   "source": [
    "import sqlite3\n",
    "\n",
    "# Kết nối đến cơ sở dữ liệu (tạo mới nếu chưa tồn tại)\n",
    "conn = sqlite3.connect('nhanviennn.db')\n",
    "\n",
    "# Tạo con trỏ để thực hiện các thao tác\n",
    "cursor = conn.cursor()\n",
    "\n",
    "# 1. Xóa bảng nếu đã tồn tại (tránh lỗi trùng lặp)\n",
    "cursor.execute('DROP TABLE IF EXISTS NhanVien')\n",
    "\n",
    "# 2. Tạo bảng NhanVien\n",
    "cursor.execute('''\n",
    "    CREATE TABLE NhanVien (\n",
    "        MaNV INTEGER PRIMARY KEY,\n",
    "        HoTen TEXT,\n",
    "        Tuoi INTEGER,\n",
    "        PhongBan TEXT\n",
    "    )\n",
    "''')"
   ]
  },
  {
   "cell_type": "code",
   "execution_count": 31,
   "metadata": {},
   "outputs": [
    {
     "name": "stdout",
     "output_type": "stream",
     "text": [
      "Toàn bộ thông tin nhân viên:\n",
      "(1, 'Nguyen Van A', 30, 'Ke Toan')\n",
      "(2, 'Tran Thi B', 25, 'Nhan Su')\n",
      "(3, 'Le Van C', 28, 'IT')\n",
      "(4, 'Pham Thi D', 32, 'Ke Toan')\n",
      "(5, 'Vu Van E', 26, 'IT')\n",
      "(6, 'Nguyen Thi F', 29, 'Marketing')\n",
      "(7, 'Le Thi G', 27, 'Nhan Su')\n",
      "(8, 'Hoang Van H', 35, 'Ke Toan')\n",
      "(9, 'Pham Van I', 33, 'Marketing')\n",
      "(10, 'Tran Van J', 24, 'IT')\n",
      "(11, 'Dang Thi K', 31, 'Nhan Su')\n",
      "(12, 'Nguyen Van L', 28, 'Ke Toan')\n",
      "(13, 'Tran Thi M', 26, 'Marketing')\n",
      "(14, 'Pham Van N', 30, 'Nhan Su')\n",
      "(15, 'Hoang Thi O', 27, 'IT')\n"
     ]
    }
   ],
   "source": [
    "# 3. Dữ liệu cần thêm\n",
    "nhan_vien = [\n",
    "    (1, 'Nguyen Van A', 30, 'Ke Toan'),\n",
    "    (2, 'Tran Thi B', 25, 'Nhan Su'),\n",
    "    (3, 'Le Van C', 28, 'IT'),\n",
    "    (4, 'Pham Thi D', 32, 'Ke Toan'),\n",
    "    (5, 'Vu Van E', 26, 'IT'),\n",
    "    (6, 'Nguyen Thi F', 29, 'Marketing'),\n",
    "    (7, 'Le Thi G', 27, 'Nhan Su'),\n",
    "    (8, 'Hoang Van H', 35, 'Ke Toan'),\n",
    "    (9, 'Pham Van I', 33, 'Marketing'),\n",
    "    (10, 'Tran Van J', 24, 'IT'),\n",
    "    (11, 'Dang Thi K', 31, 'Nhan Su'),\n",
    "    (12, 'Nguyen Van L', 28, 'Ke Toan'),\n",
    "    (13, 'Tran Thi M', 26, 'Marketing'),\n",
    "    (14, 'Pham Van N', 30, 'Nhan Su'),\n",
    "    (15, 'Hoang Thi O', 27, 'IT')\n",
    "]\n",
    "\n",
    "# 4. Chèn dữ liệu với INSERT OR REPLACE để tránh trùng lặp\n",
    "cursor.executemany('''\n",
    "    INSERT OR REPLACE INTO NhanVien (MaNV, HoTen, Tuoi, PhongBan) \n",
    "    VALUES (?, ?, ?, ?)\n",
    "''', nhan_vien)\n",
    "\n",
    "# Lưu thay đổi\n",
    "conn.commit()\n",
    "\n",
    "# 5. Truy vấn và in ra toàn bộ dữ liệu trong bảng NhanVien\n",
    "cursor.execute('SELECT * FROM NhanVien')\n",
    "rows = cursor.fetchall()\n",
    "\n",
    "print(\"Toàn bộ thông tin nhân viên:\")\n",
    "for row in rows:\n",
    "    print(row)"
   ]
  },
  {
   "cell_type": "code",
   "execution_count": 32,
   "metadata": {},
   "outputs": [
    {
     "name": "stdout",
     "output_type": "stream",
     "text": [
      "\n",
      "Nhân viên phòng IT:\n",
      "('Le Van C', 28)\n",
      "('Vu Van E', 26)\n",
      "('Tran Van J', 24)\n",
      "('Hoang Thi O', 27)\n"
     ]
    }
   ],
   "source": [
    "# 6. Truy vấn HoTen và Tuoi của nhân viên trong phòng IT\n",
    "cursor.execute('SELECT HoTen, Tuoi FROM NhanVien WHERE PhongBan = ?', ('IT',))\n",
    "rows = cursor.fetchall()\n",
    "\n",
    "print(\"\\nNhân viên phòng IT:\")\n",
    "for row in rows:\n",
    "    print(row)"
   ]
  },
  {
   "cell_type": "code",
   "execution_count": 33,
   "metadata": {},
   "outputs": [
    {
     "name": "stdout",
     "output_type": "stream",
     "text": [
      "\n",
      "Nhân viên có độ tuổi lớn hơn 25:\n",
      "(1, 'Nguyen Van A', 30, 'Ke Toan')\n",
      "(3, 'Le Van C', 28, 'IT')\n",
      "(4, 'Pham Thi D', 32, 'Ke Toan')\n",
      "(5, 'Vu Van E', 26, 'IT')\n",
      "(6, 'Nguyen Thi F', 29, 'Marketing')\n",
      "(7, 'Le Thi G', 27, 'Nhan Su')\n",
      "(8, 'Hoang Van H', 35, 'Ke Toan')\n",
      "(9, 'Pham Van I', 33, 'Marketing')\n",
      "(11, 'Dang Thi K', 31, 'Nhan Su')\n",
      "(12, 'Nguyen Van L', 28, 'Ke Toan')\n",
      "(13, 'Tran Thi M', 26, 'Marketing')\n",
      "(14, 'Pham Van N', 30, 'Nhan Su')\n",
      "(15, 'Hoang Thi O', 27, 'IT')\n"
     ]
    }
   ],
   "source": [
    "# 7. Tìm nhân viên có độ tuổi lớn hơn 25\n",
    "cursor.execute('SELECT * FROM NhanVien WHERE Tuoi > 25')\n",
    "rows = cursor.fetchall()\n",
    "\n",
    "print(\"\\nNhân viên có độ tuổi lớn hơn 25:\")\n",
    "for row in rows:\n",
    "    print(row)"
   ]
  },
  {
   "cell_type": "code",
   "execution_count": 34,
   "metadata": {},
   "outputs": [
    {
     "name": "stdout",
     "output_type": "stream",
     "text": [
      "\n",
      "Nhân viên lớn tuổi nhất trong mỗi phòng ban:\n",
      "('IT', 'Le Van C', 28)\n",
      "('Ke Toan', 'Hoang Van H', 35)\n",
      "('Marketing', 'Pham Van I', 33)\n",
      "('Nhan Su', 'Dang Thi K', 31)\n"
     ]
    }
   ],
   "source": [
    "# 8. Nhân viên lớn tuổi nhất của mỗi PhongBan\n",
    "cursor.execute('''\n",
    "    SELECT PhongBan, HoTen, MAX(Tuoi) AS Tuoi \n",
    "    FROM NhanVien \n",
    "    GROUP BY PhongBan\n",
    "''')\n",
    "rows = cursor.fetchall()\n",
    "\n",
    "print(\"\\nNhân viên lớn tuổi nhất trong mỗi phòng ban:\")\n",
    "for row in rows:\n",
    "    print(row)"
   ]
  },
  {
   "cell_type": "code",
   "execution_count": 35,
   "metadata": {},
   "outputs": [
    {
     "name": "stdout",
     "output_type": "stream",
     "text": [
      "\n",
      "Số lượng nhân viên trong mỗi phòng ban sau khi xóa MaNV=2:\n",
      "('IT', 3)\n",
      "('Ke Toan', 4)\n",
      "('Marketing', 4)\n",
      "('Nhan Su', 3)\n"
     ]
    }
   ],
   "source": [
    "# 9. Chuyển đổi PhongBan của Le Van C sang Marketing\n",
    "cursor.execute('''\n",
    "    UPDATE NhanVien \n",
    "    SET PhongBan = ? \n",
    "    WHERE HoTen = ?\n",
    "''', ('Marketing', 'Le Van C'))\n",
    "conn.commit()\n",
    "\n",
    "# 10. Xóa nhân viên có MaNV = 2\n",
    "cursor.execute('DELETE FROM NhanVien WHERE MaNV = ?', (2,))\n",
    "conn.commit()\n",
    "\n",
    "# Đếm số lượng nhân viên trong mỗi phòng ban\n",
    "cursor.execute('''\n",
    "    SELECT PhongBan, COUNT(*) AS SoLuong \n",
    "    FROM NhanVien \n",
    "    GROUP BY PhongBan\n",
    "''')\n",
    "rows = cursor.fetchall()\n",
    "\n",
    "print(\"\\nSố lượng nhân viên trong mỗi phòng ban sau khi xóa MaNV=2:\")\n",
    "for row in rows:\n",
    "    print(row)\n",
    "\n",
    "# Đóng con trỏ và kết nối\n",
    "cursor.close()\n",
    "conn.close()"
   ]
  }
 ],
 "metadata": {
  "kernelspec": {
   "display_name": "Python 3",
   "language": "python",
   "name": "python3"
  },
  "language_info": {
   "codemirror_mode": {
    "name": "ipython",
    "version": 3
   },
   "file_extension": ".py",
   "mimetype": "text/x-python",
   "name": "python",
   "nbconvert_exporter": "python",
   "pygments_lexer": "ipython3",
   "version": "3.8.2"
  }
 },
 "nbformat": 4,
 "nbformat_minor": 2
}

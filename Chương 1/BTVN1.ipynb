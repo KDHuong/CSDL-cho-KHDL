{
 "cells": [
  {
   "cell_type": "code",
   "execution_count": null,
   "metadata": {
    "vscode": {
     "languageId": "plaintext"
    }
   },
   "outputs": [],
   "source": [
    "import sqlite3"
   ]
  },
  {
   "cell_type": "code",
   "execution_count": null,
   "metadata": {
    "vscode": {
     "languageId": "plaintext"
    }
   },
   "outputs": [],
   "source": [
    "# Kết nối tới cơ sở dữ liệu (tạo mới nếu chưa tồn tại)\n",
    "conn = sqlite3.connect('nhanvien.db')\n",
    "cursor = conn.cursor()\n",
    "\n",
    "# Tạo bảng NhanVien\n",
    "cursor.execute('''\n",
    "DROP TABLE IF EXISTS NhanVien;\n",
    "''')\n",
    "\n",
    "cursor.execute('''\n",
    "CREATE TABLE NhanVien (\n",
    "    MaNV INT PRIMARY KEY,\n",
    "    HoTen TEXT,\n",
    "    Tuoi INT,\n",
    "    PhongBan TEXT\n",
    ");\n",
    "''')\n",
    "\n",
    "# Chèn dữ liệu vào bảng NhanVien\n",
    "nhan_vien_data = [\n",
    "    (1, 'Nguyen Van A', 30, 'Ke Toan'),\n",
    "    (2, 'Tran Thi B', 25, 'Nhan Su'),\n",
    "    (3, 'Le Van C', 28, 'IT'),\n",
    "    (4, 'Pham Thi D', 32, 'Ke Toan'),\n",
    "    (5, 'Vu Van E', 26, 'IT'),\n",
    "    (6, 'Nguyen Thi F', 29, 'Marketing'),\n",
    "    (7, 'Le Thi G', 27, 'Nhan Su'),\n",
    "    (8, 'Hoang Van H', 35, 'Ke Toan'),\n",
    "    (9, 'Pham Van I', 33, 'Marketing'),\n",
    "    (10, 'Tran Van J', 24, 'IT'),\n",
    "    (11, 'Dang Thi K', 31, 'Nhan Su'),\n",
    "    (12, 'Nguyen Van L', 28, 'Ke Toan'),\n",
    "    (13, 'Tran Thi M', 26, 'Marketing'),\n",
    "    (14, 'Pham Van N', 30, 'Nhan Su'),\n",
    "    (15, 'Hoang Thi O', 27, 'IT')\n",
    "]\n",
    "\n",
    "cursor.executemany('''\n",
    "INSERT INTO NhanVien (MaNV, HoTen, Tuoi, PhongBan) VALUES (?, ?, ?, ?)\n",
    "''', nhan_vien_data)"
   ]
  },
  {
   "cell_type": "code",
   "execution_count": null,
   "metadata": {
    "vscode": {
     "languageId": "plaintext"
    }
   },
   "outputs": [],
   "source": [
    "\n",
    "# Truy vấn dữ liệu\n",
    "def query_db(query):\n",
    "    cursor.execute(query)\n",
    "    return cursor.fetchall()"
   ]
  },
  {
   "cell_type": "code",
   "execution_count": null,
   "metadata": {
    "vscode": {
     "languageId": "plaintext"
    }
   },
   "outputs": [],
   "source": [
    "# In toàn bộ thông tin của nhân viên\n",
    "print(query_db('SELECT * FROM NhanVien'))"
   ]
  },
  {
   "cell_type": "code",
   "execution_count": null,
   "metadata": {
    "vscode": {
     "languageId": "plaintext"
    }
   },
   "outputs": [],
   "source": [
    "# Lấy tên và tuổi của nhân viên trong phòng IT\n",
    "print(query_db(\"SELECT HoTen, Tuoi FROM NhanVien WHERE PhongBan = 'IT'\"))\n"
   ]
  },
  {
   "cell_type": "code",
   "execution_count": null,
   "metadata": {
    "vscode": {
     "languageId": "plaintext"
    }
   },
   "outputs": [],
   "source": [
    "# Tìm nhân viên có độ tuổi lớn hơn 25\n",
    "print(query_db('SELECT * FROM NhanVien WHERE Tuoi > 25'))"
   ]
  },
  {
   "cell_type": "code",
   "execution_count": null,
   "metadata": {
    "vscode": {
     "languageId": "plaintext"
    }
   },
   "outputs": [],
   "source": [
    "# Nhân viên lớn tuổi nhất của mỗi phòng ban\n",
    "print(query_db('''\n",
    "SELECT PhongBan, HoTen, MAX(Tuoi) AS Tuoi\n",
    "FROM NhanVien\n",
    "GROUP BY PhongBan, HoTen\n",
    "ORDER BY PhongBan;\n",
    "'''))"
   ]
  },
  {
   "cell_type": "code",
   "execution_count": null,
   "metadata": {
    "vscode": {
     "languageId": "plaintext"
    }
   },
   "outputs": [],
   "source": [
    "# Chuyển đổi thông tin PhongBan của nhân viên “Le Van C” sang “Marketing”\n",
    "cursor.execute('''\n",
    "UPDATE NhanVien\n",
    "SET PhongBan = 'Marketing'\n",
    "WHERE HoTen = 'Le Van C';\n",
    "''')\n"
   ]
  },
  {
   "cell_type": "code",
   "execution_count": null,
   "metadata": {
    "vscode": {
     "languageId": "plaintext"
    }
   },
   "outputs": [],
   "source": [
    "# Xóa nhân viên có MaNV = 2\n",
    "cursor.execute('''\n",
    "DELETE FROM NhanVien\n",
    "WHERE MaNV = 2;\n",
    "''')"
   ]
  },
  {
   "cell_type": "code",
   "execution_count": null,
   "metadata": {
    "vscode": {
     "languageId": "plaintext"
    }
   },
   "outputs": [],
   "source": [
    "# Cho biết mỗi phòng ban có bao nhiêu người\n",
    "print(query_db('''\n",
    "SELECT PhongBan, COUNT(*) AS SoNhanVien\n",
    "FROM NhanVien\n",
    "GROUP BY PhongBan;\n",
    "'''))\n",
    "\n",
    "# Lưu và đóng kết nối\n",
    "conn.commit()\n",
    "conn.close()\n"
   ]
  }
 ],
 "metadata": {
  "language_info": {
   "name": "python"
  }
 },
 "nbformat": 4,
 "nbformat_minor": 2
}
